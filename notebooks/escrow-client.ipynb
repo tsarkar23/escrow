{
 "cells": [
  {
   "cell_type": "code",
   "execution_count": 4,
   "metadata": {},
   "outputs": [],
   "source": [
    "# accounts\n",
    "import json\n",
    "import solana\n",
    "import time\n",
    "import sys\n",
    "import glob\n",
    "from solana.rpc.api import Client\n",
    "from solana.blockhash import Blockhash\n",
    "from solana.publickey import PublicKey\n",
    "from solana.system_program import CreateAccountWithSeedParams, create_account_with_seed, CreateAccountParams, create_account\n",
    "from solana.transaction import Transaction, AccountMeta, TransactionInstruction\n",
    "from solana.system_program import SYS_PROGRAM_ID\n",
    "from spl.token.client import Token\n",
    "from solana import keypair\n",
    "from solana.publickey import PublicKey\n",
    "from solana.sysvar import SYSVAR_RENT_PUBKEY"
   ]
  },
  {
   "cell_type": "code",
   "execution_count": 5,
   "metadata": {},
   "outputs": [
    {
     "name": "stdout",
     "output_type": "stream",
     "text": [
      "Payer Account: 763cSApzBT5scjhSd6BdnkKkMYBhiQmPn2gctswkdkJM\n",
      "alice Account: 3f96k5Y1LogdXaK1iok3tjGwqx4DcKNwE9tk2G7zZRE8\n",
      "bob Account: 87N1sqyZ9yedPR28gDYv8GvZG2eRUvDkeVwkPdkDomuw\n"
     ]
    }
   ],
   "source": [
    "TOKEN_PROGRAM_ID: PublicKey = PublicKey(\"TokenkegQfeZyiNwAJbNbGKPFXCWuBvf9Ss623VQ5DA\")\n",
    "\n",
    "first_key_in_key_folder = glob.glob(\"../keys/*\")[0]\n",
    "payer_loaded_account = solana.keypair.Keypair(json.load(open(first_key_in_key_folder))[:32])\n",
    "\n",
    "\n",
    "http_client = Client(\"https://api.devnet.solana.com\")\n",
    "payer_public_key = payer_loaded_account.public_key\n",
    "\n",
    "\n",
    "\n",
    "# todo: change program_id to system program, change data size =0, change lampord for both alice and bob\n",
    "tx = Transaction()\n",
    "alice_keypair = solana.keypair.Keypair.generate()\n",
    "alice_pubkey = alice_keypair.public_key\n",
    "\n",
    "\n",
    "\n",
    "tx = Transaction()\n",
    "bob_keypair = solana.keypair.Keypair.generate()\n",
    "bob_pubkey = bob_keypair.public_key\n",
    "\n",
    "\n",
    "print(f\"Payer Account: {payer_public_key}\")\n",
    "print(f\"alice Account: {alice_pubkey}\")\n",
    "print(f\"bob Account: {bob_pubkey}\")"
   ]
  },
  {
   "cell_type": "code",
   "execution_count": 6,
   "metadata": {},
   "outputs": [],
   "source": [
    "X_mint_account_address = Token.create_mint(conn= http_client, payer = payer_loaded_account, mint_authority = payer_loaded_account.public_key, decimals = 0, program_id = TOKEN_PROGRAM_ID, )\n",
    "Y_mint_account_address = Token.create_mint(conn= http_client, payer = payer_loaded_account, mint_authority = payer_loaded_account.public_key, decimals = 0, program_id = TOKEN_PROGRAM_ID, )\n",
    "alice_X_token_account = X_mint_account_address.create_associated_token_account(alice_pubkey)\n",
    "alice_Y_token_account = Y_mint_account_address.create_associated_token_account(alice_pubkey)\n",
    "bob_X_token_account = X_mint_account_address.create_associated_token_account(bob_pubkey)\n",
    "bob_Y_token_account = Y_mint_account_address.create_associated_token_account(bob_pubkey)"
   ]
  },
  {
   "cell_type": "code",
   "execution_count": 7,
   "metadata": {},
   "outputs": [
    {
     "data": {
      "text/plain": [
       "{'jsonrpc': '2.0',\n",
       " 'result': '4H72Xy3Fx3M4oghFXNcNPeZNKfJ41xWpUbmyqkA5WbJSd3PA4R5k7pPCPZMEw2CM2cTprcxzhJXyJATVPBeJBDYF',\n",
       " 'id': 45}"
      ]
     },
     "execution_count": 7,
     "metadata": {},
     "output_type": "execute_result"
    }
   ],
   "source": [
    "X_mint_account_address.mint_to(alice_X_token_account,payer_loaded_account,1000)\n",
    "Y_mint_account_address.mint_to(bob_Y_token_account,payer_loaded_account,100)"
   ]
  },
  {
   "cell_type": "code",
   "execution_count": 8,
   "metadata": {},
   "outputs": [
    {
     "name": "stdout",
     "output_type": "stream",
     "text": [
      "{'jsonrpc': '2.0', 'result': {'context': {'slot': 86720413}, 'value': 1000000000}, 'id': 49}\n"
     ]
    }
   ],
   "source": [
    "import time\n",
    "http_client.request_airdrop(payer_loaded_account.public_key, 1000000000)\n",
    "time.sleep(20)\n",
    "http_client.request_airdrop(alice_pubkey, 1000000000)\n",
    "time.sleep(20)\n",
    "http_client.request_airdrop(bob_pubkey, 1000000000)\n",
    "print(http_client.get_balance(alice_pubkey))\n",
    "# print(http_client.get_balance(bob_pubkey))\n",
    "# print(http_client.get_balance(payer_loaded_account.public_key))\n",
    "# print(http_client.get_minimum_balance_for_rent_exemption(7)[\"result\"])"
   ]
  },
  {
   "cell_type": "code",
   "execution_count": 9,
   "metadata": {},
   "outputs": [],
   "source": [
    "# escrow meta-data account\n",
    "deployed_program_key = glob.glob(\"../target/deploy/*.json\")[0]\n",
    "deployed_program_key_account = solana.keypair.Keypair(json.load(open(deployed_program_key))[:32])\n",
    "program_id = deployed_program_key_account.public_key\n",
    "\n",
    "\n",
    "# tx = Transaction()\n",
    "# escrow_keypair = solana.keypair.Keypair.generate()\n",
    "# escrow_pubkey = escrow_keypair.public_key\n",
    "# data_size = 100\n",
    "# lamports = http_client.get_minimum_balance_for_rent_exemption(data_size)[\"result\"]\n",
    "# transaction_instruction = create_account(\n",
    "#         params=CreateAccountParams(\n",
    "#             from_pubkey=payer_public_key, new_account_pubkey=escrow_pubkey,\n",
    "#             lamports=lamports, space=data_size, program_id=program_id\n",
    "#         )\n",
    "#     )\n",
    "\n",
    "# tx = tx.add(transaction_instruction)\n",
    "# transaction_results = http_client.send_transaction(tx, *[payer_loaded_account,escrow_keypair])\n",
    "# print(f\"Program ID: {program_id}\")\n",
    "# print(f\"Escrow pubkey: {escrow_pubkey}\")"
   ]
  },
  {
   "cell_type": "code",
   "execution_count": null,
   "metadata": {},
   "outputs": [],
   "source": []
  },
  {
   "cell_type": "code",
   "execution_count": 10,
   "metadata": {},
   "outputs": [],
   "source": [
    "# todo, creat seed more specific\n",
    "x_seeds = [\n",
    "    b\"vault_x14tintin\",\n",
    "    bytes(alice_pubkey),\n",
    "    bytes(bob_pubkey),\n",
    "    bytes(X_mint_account_address.pubkey),\n",
    "    bytes(Y_mint_account_address.pubkey),\n",
    "#     bytes(escrow_pubkey),\n",
    "]\n",
    "\n",
    "y_seeds = [\n",
    "    b\"vault_y14tintin\",\n",
    "    bytes(alice_pubkey),\n",
    "    bytes(bob_pubkey),\n",
    "    bytes(X_mint_account_address.pubkey),\n",
    "    bytes(Y_mint_account_address.pubkey),\n",
    "#     bytes(escrow_pubkey),\n",
    "]\n",
    "\n",
    "escrow_seeds = [\n",
    "    b\"escrow14tintin\",\n",
    "    bytes(alice_pubkey),\n",
    "    bytes(bob_pubkey),\n",
    "    bytes(X_mint_account_address.pubkey),\n",
    "    bytes(Y_mint_account_address.pubkey),\n",
    "#     bytes(escrow_pubkey),\n",
    "]\n",
    "\n",
    "\n",
    "vaultx, xseed = PublicKey.find_program_address(seeds=x_seeds,program_id=program_id)\n",
    "vaulty, yseed = PublicKey.find_program_address(seeds=y_seeds,program_id=program_id)\n",
    "escrow_address, escrow_seed = PublicKey.find_program_address(seeds=escrow_seeds,program_id=program_id)"
   ]
  },
  {
   "cell_type": "code",
   "execution_count": 9,
   "metadata": {},
   "outputs": [
    {
     "name": "stdout",
     "output_type": "stream",
     "text": [
      "CGmCX6GBwbXgMV6hedVsq2117poEJ2X3kiujeB6DTd9k\n",
      "4bjNMkap1gyd4F7tzYKXgdoydXcZjmngCuBd34m6q3MQ\n",
      "7pprnzMwKCTz2c76BoKefA8P9Yi9vsYcEmMojBWnjuG6\n",
      "3iGuqM3Loj9xd71anJzHD3caXrW5SDhyuCiKjVALoX5H\n"
     ]
    }
   ],
   "source": [
    "print(vaultx)\n",
    "print(vaulty)\n",
    "print(escrow_address)\n",
    "print(program_id)"
   ]
  },
  {
   "cell_type": "code",
   "execution_count": 10,
   "metadata": {},
   "outputs": [],
   "source": [
    "# http_client.request_airdrop(escrow_address, 1000000000)\n",
    "# print(http_client.get_balance(escrow_address))"
   ]
  },
  {
   "cell_type": "code",
   "execution_count": 11,
   "metadata": {},
   "outputs": [],
   "source": [
    "# initialize transaction\n",
    "from struct import *\n",
    "data = pack('<BQQ', 0,13,15)\n",
    "\n",
    "import struct\n",
    "tx = Transaction()\n",
    "tx_instruction = TransactionInstruction(\n",
    "    keys=[AccountMeta(pubkey=escrow_address, is_signer=False, is_writable=True),\n",
    "          AccountMeta(pubkey=X_mint_account_address.pubkey, is_signer=False, is_writable=False),\n",
    "          AccountMeta(pubkey=Y_mint_account_address.pubkey, is_signer=False, is_writable=False),\n",
    "          AccountMeta(pubkey=vaultx, is_signer=False, is_writable=True),\n",
    "          AccountMeta(pubkey=vaulty, is_signer=False, is_writable=True),\n",
    "          AccountMeta(pubkey=payer_public_key, is_signer=True, is_writable=False),\n",
    "          AccountMeta(pubkey=alice_pubkey, is_signer=False, is_writable=False),\n",
    "          AccountMeta(pubkey=bob_pubkey, is_signer=False, is_writable=False),\n",
    "          AccountMeta(pubkey=TOKEN_PROGRAM_ID, is_signer=False, is_writable=False),\n",
    "          AccountMeta(pubkey=SYSVAR_RENT_PUBKEY, is_signer=False, is_writable=False),\n",
    "          AccountMeta(pubkey=SYS_PROGRAM_ID, is_signer=False, is_writable=False),\n",
    "#           AccountMeta(pubkey=program_id, is_signer=False, is_writable=False),\n",
    "         ],\n",
    "    program_id=program_id,\n",
    "    data=  data, #struct.pack(\"<LHB\",1,1,1) # b58encode(bytes([9] * 7))#b'0001000100010001000100010001',\n",
    ")\n",
    "\n",
    "tx = tx.add(tx_instruction)\n",
    "\n",
    "\n",
    "transaction_results = http_client.send_transaction(tx, *[payer_loaded_account])#, *[payer_loaded_account])"
   ]
  },
  {
   "cell_type": "code",
   "execution_count": 12,
   "metadata": {},
   "outputs": [
    {
     "name": "stdout",
     "output_type": "stream",
     "text": [
      "(13, 15)\n",
      "(1, False, False)\n",
      "b\"\\xda\\x08\\xd8\\x10\\x19i\\xfa\\xcb\\xa7\\xe3\\xd5\\x99\\x00d\\x90|\\xc5F\\x01\\xc88'\\x0c\\xde\\xe0\\xf2\\x89\\xf2&\\xc1r1\"\n"
     ]
    },
    {
     "data": {
      "text/plain": [
       "b\"\\xda\\x08\\xd8\\x10\\x19i\\xfa\\xcb\\xa7\\xe3\\xd5\\x99\\x00d\\x90|\\xc5F\\x01\\xc88'\\x0c\\xde\\xe0\\xf2\\x89\\xf2&\\xc1r1\""
      ]
     },
     "execution_count": 12,
     "metadata": {},
     "output_type": "execute_result"
    }
   ],
   "source": [
    "time.sleep(200)\n",
    "a = http_client.get_account_info(escrow_address)['result']['value']['data'][0]\n",
    "import base64\n",
    "print(unpack('<QQ', base64.b64decode(a)[:16]))\n",
    "print(unpack('<Q??', base64.b64decode(a)[208:218]))\n",
    "print(base64.b64decode(a)[16:16+32])\n",
    "bytes(alice_pubkey)\n",
    "\n",
    "# Q 8 bytes\n",
    "# a 400 bytes\n",
    "\n",
    "\n",
    "# xval: u64,   8 byte\n",
    "# yval: u64,   8 byte\n",
    "# a_pub_key: Pubkey, 32 byte\n",
    "# b_pub_key: Pubkey, 32 byte\n",
    "# mint_x_pub_key: Pubkey,  32 byte\n",
    "# mint_y_pub_key: Pubkey,  32 byte\n",
    "# vault_x_pub_key: Pubkey, 32 byte\n",
    "# vault_y_pub_key: Pubkey, 32 byte\n",
    "# init_deposit_status: u64, 8 byte\n",
    "# is_a_withdrawed: u8,    1byte\n",
    "# is_b_withdrawed: u8,    1byte"
   ]
  },
  {
   "cell_type": "code",
   "execution_count": null,
   "metadata": {},
   "outputs": [],
   "source": []
  },
  {
   "cell_type": "code",
   "execution_count": null,
   "metadata": {},
   "outputs": [],
   "source": []
  },
  {
   "cell_type": "code",
   "execution_count": null,
   "metadata": {},
   "outputs": [],
   "source": []
  },
  {
   "cell_type": "code",
   "execution_count": null,
   "metadata": {},
   "outputs": [],
   "source": []
  },
  {
   "cell_type": "code",
   "execution_count": null,
   "metadata": {},
   "outputs": [],
   "source": []
  },
  {
   "cell_type": "code",
   "execution_count": 14,
   "metadata": {},
   "outputs": [],
   "source": [
    "# deposite x\n",
    "from struct import *\n",
    "data = pack('<B', 1)\n",
    "\n",
    "import struct\n",
    "tx = Transaction()\n",
    "tx_instruction = TransactionInstruction(\n",
    "    keys=[AccountMeta(pubkey=escrow_address, is_signer=False, is_writable=True),\n",
    "          AccountMeta(pubkey=alice_X_token_account, is_signer=False, is_writable=True), # x_a info\n",
    "          AccountMeta(pubkey=vaultx, is_signer=False, is_writable=True),\n",
    "          AccountMeta(pubkey=alice_pubkey, is_signer=True, is_writable=False),\n",
    "          AccountMeta(pubkey=TOKEN_PROGRAM_ID, is_signer=False, is_writable=False),\n",
    "         ],\n",
    "    program_id=program_id,\n",
    "    data=  data,\n",
    ")\n",
    "\n",
    "tx = tx.add(tx_instruction)\n",
    "\n",
    "\n",
    "transaction_results = http_client.send_transaction(tx, *[alice_keypair])#, *[payer_loaded_account])"
   ]
  },
  {
   "cell_type": "code",
   "execution_count": 15,
   "metadata": {},
   "outputs": [],
   "source": [
    "# deposite y\n",
    "time.sleep(30)\n",
    "from struct import *\n",
    "data = pack('<B', 1)\n",
    "\n",
    "import struct\n",
    "tx = Transaction()\n",
    "tx_instruction = TransactionInstruction(\n",
    "    keys=[AccountMeta(pubkey=escrow_address, is_signer=False, is_writable=True),\n",
    "          AccountMeta(pubkey=bob_Y_token_account, is_signer=False, is_writable=True), # x_a info\n",
    "          AccountMeta(pubkey=vaulty, is_signer=False, is_writable=True),\n",
    "          AccountMeta(pubkey=bob_pubkey, is_signer=True, is_writable=False),\n",
    "          AccountMeta(pubkey=TOKEN_PROGRAM_ID, is_signer=False, is_writable=False),\n",
    "         ],\n",
    "    program_id=program_id,\n",
    "    data=  data,\n",
    ")\n",
    "\n",
    "tx = tx.add(tx_instruction)\n",
    "\n",
    "\n",
    "transaction_results = http_client.send_transaction(tx, *[bob_keypair])#, *[payer_loaded_account])"
   ]
  },
  {
   "cell_type": "code",
   "execution_count": null,
   "metadata": {},
   "outputs": [],
   "source": [
    "vaultx"
   ]
  },
  {
   "cell_type": "code",
   "execution_count": null,
   "metadata": {},
   "outputs": [],
   "source": [
    "bob_Y_token_account"
   ]
  },
  {
   "cell_type": "code",
   "execution_count": null,
   "metadata": {},
   "outputs": [],
   "source": [
    "bob_X_token_account"
   ]
  },
  {
   "cell_type": "code",
   "execution_count": null,
   "metadata": {},
   "outputs": [],
   "source": [
    "alice_X_token_account"
   ]
  },
  {
   "cell_type": "code",
   "execution_count": null,
   "metadata": {},
   "outputs": [],
   "source": []
  },
  {
   "cell_type": "code",
   "execution_count": 16,
   "metadata": {},
   "outputs": [
    {
     "name": "stderr",
     "output_type": "stream",
     "text": [
      "{'code': -32002, 'message': 'Transaction simulation failed: Error processing Instruction 0: invalid account data for instruction', 'data': {'accounts': None, 'err': {'InstructionError': [0, 'InvalidAccountData']}, 'logs': ['Program 3iGuqM3Loj9xd71anJzHD3caXrW5SDhyuCiKjVALoX5H invoke [1]', 'Program log: Instruction: Withdrawal', 'Program log: w1', 'Program log: Hey it is not the time to withdraw, you may go ahead and cancel to get back your token!', 'Program 3iGuqM3Loj9xd71anJzHD3caXrW5SDhyuCiKjVALoX5H consumed 3063 of 200000 compute units', 'Program 3iGuqM3Loj9xd71anJzHD3caXrW5SDhyuCiKjVALoX5H failed: invalid account data for instruction']}}\n"
     ]
    },
    {
     "ename": "Exception",
     "evalue": "Failed to send transaction",
     "output_type": "error",
     "traceback": [
      "\u001b[0;31m---------------------------------------------------------------------------\u001b[0m",
      "\u001b[0;31mException\u001b[0m                                 Traceback (most recent call last)",
      "\u001b[0;32m<ipython-input-16-be08b11b5462>\u001b[0m in \u001b[0;36m<module>\u001b[0;34m\u001b[0m\n\u001b[1;32m     19\u001b[0m \u001b[0;34m\u001b[0m\u001b[0m\n\u001b[1;32m     20\u001b[0m \u001b[0;34m\u001b[0m\u001b[0m\n\u001b[0;32m---> 21\u001b[0;31m \u001b[0mtransaction_results\u001b[0m \u001b[0;34m=\u001b[0m \u001b[0mhttp_client\u001b[0m\u001b[0;34m.\u001b[0m\u001b[0msend_transaction\u001b[0m\u001b[0;34m(\u001b[0m\u001b[0mtx\u001b[0m\u001b[0;34m,\u001b[0m \u001b[0;34m*\u001b[0m\u001b[0;34m[\u001b[0m\u001b[0malice_keypair\u001b[0m\u001b[0;34m]\u001b[0m\u001b[0;34m)\u001b[0m\u001b[0;31m#, *[payer_loaded_account])\u001b[0m\u001b[0;34m\u001b[0m\u001b[0;34m\u001b[0m\u001b[0m\n\u001b[0m",
      "\u001b[0;32m/opt/anaconda3/lib/python3.7/site-packages/solana/rpc/api.py\u001b[0m in \u001b[0;36msend_transaction\u001b[0;34m(self, txn, opts, recent_blockhash, *signers)\u001b[0m\n\u001b[1;32m   1058\u001b[0m \u001b[0;34m\u001b[0m\u001b[0m\n\u001b[1;32m   1059\u001b[0m         \u001b[0mtxn\u001b[0m\u001b[0;34m.\u001b[0m\u001b[0msign\u001b[0m\u001b[0;34m(\u001b[0m\u001b[0;34m*\u001b[0m\u001b[0msigners\u001b[0m\u001b[0;34m)\u001b[0m\u001b[0;34m\u001b[0m\u001b[0;34m\u001b[0m\u001b[0m\n\u001b[0;32m-> 1060\u001b[0;31m         \u001b[0mtxn_resp\u001b[0m \u001b[0;34m=\u001b[0m \u001b[0mself\u001b[0m\u001b[0;34m.\u001b[0m\u001b[0msend_raw_transaction\u001b[0m\u001b[0;34m(\u001b[0m\u001b[0mtxn\u001b[0m\u001b[0;34m.\u001b[0m\u001b[0mserialize\u001b[0m\u001b[0;34m(\u001b[0m\u001b[0;34m)\u001b[0m\u001b[0;34m,\u001b[0m \u001b[0mopts\u001b[0m\u001b[0;34m=\u001b[0m\u001b[0mopts\u001b[0m\u001b[0;34m)\u001b[0m\u001b[0;34m\u001b[0m\u001b[0;34m\u001b[0m\u001b[0m\n\u001b[0m\u001b[1;32m   1061\u001b[0m         \u001b[0;32mif\u001b[0m \u001b[0mself\u001b[0m\u001b[0;34m.\u001b[0m\u001b[0mblockhash_cache\u001b[0m\u001b[0;34m:\u001b[0m\u001b[0;34m\u001b[0m\u001b[0;34m\u001b[0m\u001b[0m\n\u001b[1;32m   1062\u001b[0m             \u001b[0mblockhash_resp\u001b[0m \u001b[0;34m=\u001b[0m \u001b[0mself\u001b[0m\u001b[0;34m.\u001b[0m\u001b[0mget_recent_blockhash\u001b[0m\u001b[0;34m(\u001b[0m\u001b[0;34m)\u001b[0m\u001b[0;34m\u001b[0m\u001b[0;34m\u001b[0m\u001b[0m\n",
      "\u001b[0;32m/opt/anaconda3/lib/python3.7/site-packages/solana/rpc/api.py\u001b[0m in \u001b[0;36msend_raw_transaction\u001b[0;34m(self, txn, opts)\u001b[0m\n\u001b[1;32m   1014\u001b[0m         \u001b[0mresp\u001b[0m \u001b[0;34m=\u001b[0m \u001b[0mself\u001b[0m\u001b[0;34m.\u001b[0m\u001b[0m_provider\u001b[0m\u001b[0;34m.\u001b[0m\u001b[0mmake_request\u001b[0m\u001b[0;34m(\u001b[0m\u001b[0;34m*\u001b[0m\u001b[0margs\u001b[0m\u001b[0;34m)\u001b[0m\u001b[0;34m\u001b[0m\u001b[0;34m\u001b[0m\u001b[0m\n\u001b[1;32m   1015\u001b[0m         \u001b[0;32mif\u001b[0m \u001b[0mopts\u001b[0m\u001b[0;34m.\u001b[0m\u001b[0mskip_confirmation\u001b[0m\u001b[0;34m:\u001b[0m\u001b[0;34m\u001b[0m\u001b[0;34m\u001b[0m\u001b[0m\n\u001b[0;32m-> 1016\u001b[0;31m             \u001b[0;32mreturn\u001b[0m \u001b[0mself\u001b[0m\u001b[0;34m.\u001b[0m\u001b[0m_post_send\u001b[0m\u001b[0;34m(\u001b[0m\u001b[0mresp\u001b[0m\u001b[0;34m,\u001b[0m \u001b[0mself\u001b[0m\u001b[0;34m.\u001b[0m\u001b[0m_provider\u001b[0m\u001b[0;34m)\u001b[0m\u001b[0;34m\u001b[0m\u001b[0;34m\u001b[0m\u001b[0m\n\u001b[0m\u001b[1;32m   1017\u001b[0m         \u001b[0mpost_send_args\u001b[0m \u001b[0;34m=\u001b[0m \u001b[0mself\u001b[0m\u001b[0;34m.\u001b[0m\u001b[0m_send_raw_transaction_post_send_args\u001b[0m\u001b[0;34m(\u001b[0m\u001b[0mresp\u001b[0m\u001b[0;34m,\u001b[0m \u001b[0mopts\u001b[0m\u001b[0;34m)\u001b[0m\u001b[0;34m\u001b[0m\u001b[0;34m\u001b[0m\u001b[0m\n\u001b[1;32m   1018\u001b[0m         \u001b[0;32mreturn\u001b[0m \u001b[0mself\u001b[0m\u001b[0;34m.\u001b[0m\u001b[0m__post_send_with_confirm\u001b[0m\u001b[0;34m(\u001b[0m\u001b[0;34m*\u001b[0m\u001b[0mpost_send_args\u001b[0m\u001b[0;34m)\u001b[0m\u001b[0;34m\u001b[0m\u001b[0;34m\u001b[0m\u001b[0m\n",
      "\u001b[0;32m/opt/anaconda3/lib/python3.7/site-packages/solana/rpc/core.py\u001b[0m in \u001b[0;36m_post_send\u001b[0;34m(resp, provider)\u001b[0m\n\u001b[1;32m    362\u001b[0m             \u001b[0mprovider\u001b[0m\u001b[0;34m.\u001b[0m\u001b[0mlogger\u001b[0m\u001b[0;34m.\u001b[0m\u001b[0merror\u001b[0m\u001b[0;34m(\u001b[0m\u001b[0mresp\u001b[0m\u001b[0;34m.\u001b[0m\u001b[0mget\u001b[0m\u001b[0;34m(\u001b[0m\u001b[0;34m\"error\"\u001b[0m\u001b[0;34m)\u001b[0m\u001b[0;34m)\u001b[0m\u001b[0;34m\u001b[0m\u001b[0;34m\u001b[0m\u001b[0m\n\u001b[1;32m    363\u001b[0m         \u001b[0;32mif\u001b[0m \u001b[0;32mnot\u001b[0m \u001b[0mresp\u001b[0m\u001b[0;34m.\u001b[0m\u001b[0mget\u001b[0m\u001b[0;34m(\u001b[0m\u001b[0;34m\"result\"\u001b[0m\u001b[0;34m)\u001b[0m\u001b[0;34m:\u001b[0m\u001b[0;34m\u001b[0m\u001b[0;34m\u001b[0m\u001b[0m\n\u001b[0;32m--> 364\u001b[0;31m             \u001b[0;32mraise\u001b[0m \u001b[0mException\u001b[0m\u001b[0;34m(\u001b[0m\u001b[0;34m\"Failed to send transaction\"\u001b[0m\u001b[0;34m)\u001b[0m\u001b[0;34m\u001b[0m\u001b[0;34m\u001b[0m\u001b[0m\n\u001b[0m\u001b[1;32m    365\u001b[0m         \u001b[0;32mreturn\u001b[0m \u001b[0mresp\u001b[0m\u001b[0;34m\u001b[0m\u001b[0;34m\u001b[0m\u001b[0m\n\u001b[1;32m    366\u001b[0m \u001b[0;34m\u001b[0m\u001b[0m\n",
      "\u001b[0;31mException\u001b[0m: Failed to send transaction"
     ]
    }
   ],
   "source": [
    "# withdraw alice\n",
    "from struct import *\n",
    "data = pack('<B', 2)\n",
    "\n",
    "import struct\n",
    "tx = Transaction()\n",
    "tx_instruction = TransactionInstruction(\n",
    "    keys=[AccountMeta(pubkey=escrow_address, is_signer=False, is_writable=True),\n",
    "          AccountMeta(pubkey=alice_Y_token_account, is_signer=False, is_writable=True), # x_a info\n",
    "          AccountMeta(pubkey=vaulty, is_signer=False, is_writable=True),\n",
    "          AccountMeta(pubkey=alice_pubkey, is_signer=True, is_writable=False),\n",
    "          AccountMeta(pubkey=TOKEN_PROGRAM_ID, is_signer=False, is_writable=False),\n",
    "         ],\n",
    "    program_id=program_id,\n",
    "    data=  data,\n",
    ")\n",
    "\n",
    "tx = tx.add(tx_instruction)\n",
    "\n",
    "\n",
    "transaction_results = http_client.send_transaction(tx, *[alice_keypair])#, *[payer_loaded_account])"
   ]
  },
  {
   "cell_type": "code",
   "execution_count": null,
   "metadata": {},
   "outputs": [],
   "source": [
    "# withdraw bob\n",
    "from struct import *\n",
    "data = pack('<B', 2)\n",
    "\n",
    "import struct\n",
    "tx = Transaction()\n",
    "tx_instruction = TransactionInstruction(\n",
    "    keys=[AccountMeta(pubkey=escrow_address, is_signer=False, is_writable=True),\n",
    "          AccountMeta(pubkey=bob_X_token_account, is_signer=False, is_writable=True), # x_a info\n",
    "          AccountMeta(pubkey=vaultx, is_signer=False, is_writable=True),\n",
    "          AccountMeta(pubkey=bob_pubkey, is_signer=True, is_writable=False),\n",
    "          AccountMeta(pubkey=TOKEN_PROGRAM_ID, is_signer=False, is_writable=False),\n",
    "         ],\n",
    "    program_id=program_id,\n",
    "    data=  data,\n",
    ")\n",
    "\n",
    "tx = tx.add(tx_instruction)\n",
    "\n",
    "\n",
    "transaction_results = http_client.send_transaction(tx, *[bob_keypair])#, *[payer_loaded_account])"
   ]
  },
  {
   "cell_type": "code",
   "execution_count": null,
   "metadata": {},
   "outputs": [],
   "source": [
    "# Trouble shooting\n",
    "# {'code': -32602, 'message': 'invalid transaction: index out of bounds'}: probabily signed with different account in send_transaction function\n",
    "# debit credit, pobably you need to airdrop solana to the account"
   ]
  }
 ],
 "metadata": {
  "kernelspec": {
   "display_name": "Python 3",
   "language": "python",
   "name": "python3"
  },
  "language_info": {
   "codemirror_mode": {
    "name": "ipython",
    "version": 3
   },
   "file_extension": ".py",
   "mimetype": "text/x-python",
   "name": "python",
   "nbconvert_exporter": "python",
   "pygments_lexer": "ipython3",
   "version": "3.9.5"
  }
 },
 "nbformat": 4,
 "nbformat_minor": 4
}
