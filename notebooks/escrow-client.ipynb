{
 "cells": [
  {
   "cell_type": "code",
   "execution_count": 1,
   "metadata": {},
   "outputs": [],
   "source": [
    "# accounts\n",
    "import json\n",
    "import solana\n",
    "import time\n",
    "import sys\n",
    "import glob\n",
    "from solana.rpc.api import Client\n",
    "from solana.blockhash import Blockhash\n",
    "from solana.publickey import PublicKey\n",
    "from solana.system_program import CreateAccountWithSeedParams, create_account_with_seed, CreateAccountParams, create_account\n",
    "from solana.transaction import Transaction, AccountMeta, TransactionInstruction\n",
    "from solana.system_program import SYS_PROGRAM_ID\n",
    "from spl.token.client import Token\n",
    "from solana import keypair\n",
    "from solana.publickey import PublicKey\n",
    "from solana.sysvar import SYSVAR_RENT_PUBKEY\n",
    "from struct import *\n",
    "import struct"
   ]
  },
  {
   "cell_type": "code",
   "execution_count": 2,
   "metadata": {},
   "outputs": [
    {
     "name": "stdout",
     "output_type": "stream",
     "text": [
      "Payer Account: GqQtnnYHYxaPibo2VmqwckwHy6E43NYQ6Gw8Qb9GRJqM\n",
      "alice Account: B7s8HFofhSWzZrWAFdd59Ww2fynU95jBEUFoADwKGhMX\n",
      "bob Account: HSMCvhQAsbi6T7dYffsZZ6Gfp5NAQ8PzGbhTVix3QYSu\n"
     ]
    }
   ],
   "source": [
    "TOKEN_PROGRAM_ID: PublicKey = PublicKey(\"TokenkegQfeZyiNwAJbNbGKPFXCWuBvf9Ss623VQ5DA\")\n",
    "\n",
    "# first_key_in_key_folder = glob.glob(\"../keys/*\")[0]\n",
    "# payer_loaded_account = solana.keypair.Keypair(json.load(open(first_key_in_key_folder))[:32])\n",
    "# payer_public_key = payer_loaded_account.public_key\n",
    "payer_loaded_account = solana.keypair.Keypair.generate()\n",
    "payer_public_key = payer_loaded_account.public_key\n",
    "\n",
    "\n",
    "\n",
    "http_client = Client(\"https://api.devnet.solana.com\")\n",
    "\n",
    "\n",
    "\n",
    "\n",
    "# todo: change program_id to system program, change data size =0, change lampord for both alice and bob\n",
    "alice_keypair = solana.keypair.Keypair.generate()\n",
    "alice_pubkey = alice_keypair.public_key\n",
    "\n",
    "\n",
    "\n",
    "bob_keypair = solana.keypair.Keypair.generate()\n",
    "bob_pubkey = bob_keypair.public_key\n",
    "\n",
    "\n",
    "print(f\"Payer Account: {payer_public_key}\")\n",
    "print(f\"alice Account: {alice_pubkey}\")\n",
    "print(f\"bob Account: {bob_pubkey}\")"
   ]
  },
  {
   "cell_type": "code",
   "execution_count": 3,
   "metadata": {},
   "outputs": [
    {
     "name": "stdout",
     "output_type": "stream",
     "text": [
      "{'jsonrpc': '2.0', 'result': {'context': {'slot': 87131706}, 'value': 1000000000}, 'id': 4}\n"
     ]
    }
   ],
   "source": [
    "import time\n",
    "http_client.request_airdrop(payer_loaded_account.public_key, 1000000000)\n",
    "time.sleep(15)\n",
    "http_client.request_airdrop(alice_pubkey, 1000000000)\n",
    "time.sleep(15)\n",
    "http_client.request_airdrop(bob_pubkey, 1000000000)\n",
    "print(http_client.get_balance(alice_pubkey))\n",
    "# print(http_client.get_balance(bob_pubkey))\n",
    "# print(http_client.get_balance(payer_loaded_account.public_key))\n",
    "# print(http_client.get_minimum_balance_for_rent_exemption(7)[\"result\"])"
   ]
  },
  {
   "cell_type": "code",
   "execution_count": 4,
   "metadata": {},
   "outputs": [],
   "source": [
    "X_mint_account_address = Token.create_mint(conn= http_client, payer = payer_loaded_account, mint_authority = payer_loaded_account.public_key, decimals = 0, program_id = TOKEN_PROGRAM_ID, )\n",
    "Y_mint_account_address = Token.create_mint(conn= http_client, payer = payer_loaded_account, mint_authority = payer_loaded_account.public_key, decimals = 0, program_id = TOKEN_PROGRAM_ID, )\n",
    "alice_X_token_account = X_mint_account_address.create_associated_token_account(alice_pubkey)\n",
    "alice_Y_token_account = Y_mint_account_address.create_associated_token_account(alice_pubkey)\n",
    "bob_X_token_account = X_mint_account_address.create_associated_token_account(bob_pubkey)\n",
    "bob_Y_token_account = Y_mint_account_address.create_associated_token_account(bob_pubkey)"
   ]
  },
  {
   "cell_type": "code",
   "execution_count": 21,
   "metadata": {},
   "outputs": [
    {
     "data": {
      "text/plain": [
       "{'jsonrpc': '2.0',\n",
       " 'result': '4DKrhjtakus8X53VDYLqtFWA27uKHoJLBTiTLadQqRi6tYf7gKwjUvMR2pSeofrzazXzmG3pvodf52J7mVBMXP4S',\n",
       " 'id': 64}"
      ]
     },
     "execution_count": 21,
     "metadata": {},
     "output_type": "execute_result"
    }
   ],
   "source": [
    "X_mint_account_address.mint_to(alice_X_token_account,payer_loaded_account,1000)\n",
    "Y_mint_account_address.mint_to(bob_Y_token_account,payer_loaded_account,100)"
   ]
  },
  {
   "cell_type": "code",
   "execution_count": 22,
   "metadata": {},
   "outputs": [],
   "source": [
    "# escrow meta-data account\n",
    "deployed_program_key = glob.glob(\"../target/deploy/*.json\")[0]\n",
    "deployed_program_key_account = solana.keypair.Keypair(json.load(open(deployed_program_key))[:32])\n",
    "program_id = deployed_program_key_account.public_key"
   ]
  },
  {
   "cell_type": "code",
   "execution_count": 63,
   "metadata": {},
   "outputs": [],
   "source": [
    "# todo, create seed more specific\n",
    "password = 25\n",
    "x_seeds = [\n",
    "    b\"vault_x\",\n",
    "    password.to_bytes(8,byteorder='little'),\n",
    "    bytes(alice_pubkey),\n",
    "    bytes(bob_pubkey),\n",
    "    bytes(X_mint_account_address.pubkey),\n",
    "    bytes(Y_mint_account_address.pubkey),\n",
    "]\n",
    "\n",
    "y_seeds = [\n",
    "    b\"vault_y\",\n",
    "    password.to_bytes(8,byteorder='little'),\n",
    "    bytes(alice_pubkey),\n",
    "    bytes(bob_pubkey),\n",
    "    bytes(X_mint_account_address.pubkey),\n",
    "    bytes(Y_mint_account_address.pubkey),\n",
    "]\n",
    "\n",
    "escrow_seeds = [\n",
    "    b\"escrow\",\n",
    "    password.to_bytes(8,byteorder='little'),\n",
    "    bytes(alice_pubkey),\n",
    "    bytes(bob_pubkey),\n",
    "    bytes(X_mint_account_address.pubkey),\n",
    "    bytes(Y_mint_account_address.pubkey),\n",
    "]\n",
    "\n",
    "\n",
    "vaultx, xseed = PublicKey.find_program_address(seeds=x_seeds,program_id=program_id)\n",
    "vaulty, yseed = PublicKey.find_program_address(seeds=y_seeds,program_id=program_id)\n",
    "escrow_address, escrow_seed = PublicKey.find_program_address(seeds=escrow_seeds,program_id=program_id)"
   ]
  },
  {
   "cell_type": "code",
   "execution_count": null,
   "metadata": {},
   "outputs": [],
   "source": [
    "alice1 = [10, 140, 229, 196, 196, 173, 137, 112, 235, 104, 209, 194, 248, 49, 198, 12, 133, 186, 173, 133, 113, 136, 155, 72, 174, 44, 101, 204, 105, 117, 221, 119]\n",
    "len(alice1)"
   ]
  },
  {
   "cell_type": "code",
   "execution_count": null,
   "metadata": {},
   "outputs": [],
   "source": [
    "bytes(alice_pubkey)"
   ]
  },
  {
   "cell_type": "code",
   "execution_count": null,
   "metadata": {},
   "outputs": [],
   "source": [
    "(229).to_bytes(1,byteorder='little')"
   ]
  },
  {
   "cell_type": "code",
   "execution_count": null,
   "metadata": {},
   "outputs": [],
   "source": [
    "escrow_address"
   ]
  },
  {
   "cell_type": "code",
   "execution_count": 64,
   "metadata": {},
   "outputs": [
    {
     "name": "stdout",
     "output_type": "stream",
     "text": [
      "8kJmM91VvRxmsBJogHQfwbX177mWNUDP6p3PYTvhEWLP\n",
      "3rpMYTD7RhrwSsPTc7qU55GJeyH4yNe2G5Fg8hRMxkFw\n",
      "BAdFTNUyjP16bcxS4FqixqQ8udjj5wKqFEHE5TE1v5cZ\n",
      "6rtZCTuF3hwKZhm6R6HJQGQ4nYq6ihYsCKXd4rUBw9KL\n"
     ]
    }
   ],
   "source": [
    "print(vaultx)\n",
    "print(vaulty)\n",
    "print(escrow_address)\n",
    "print(program_id)"
   ]
  },
  {
   "cell_type": "code",
   "execution_count": null,
   "metadata": {},
   "outputs": [],
   "source": [
    "password = (16).to_bytes(8,byteorder='little')\n",
    "data1 = pack('<BQQ', 0,13,15)  + password\n",
    "data2 = pack('<BQQQ', 0,13,15,16)\n",
    "print(data1)\n",
    "print(data2)"
   ]
  },
  {
   "cell_type": "code",
   "execution_count": null,
   "metadata": {},
   "outputs": [],
   "source": [
    "pass1 = [16, 0, 0, 0, 0, 0, 0, 0]"
   ]
  },
  {
   "cell_type": "code",
   "execution_count": null,
   "metadata": {},
   "outputs": [],
   "source": [
    "pack('<BQQ', 0,13,15)"
   ]
  },
  {
   "cell_type": "code",
   "execution_count": null,
   "metadata": {},
   "outputs": [],
   "source": [
    "bytes(13)"
   ]
  },
  {
   "cell_type": "code",
   "execution_count": 52,
   "metadata": {},
   "outputs": [
    {
     "data": {
      "text/plain": [
       "HPt4ebfceymeUZ8HD2XUYSMzpcqqwmVRDKZWfxo4Y26w"
      ]
     },
     "execution_count": 52,
     "metadata": {},
     "output_type": "execute_result"
    }
   ],
   "source": [
    "alice_Y_token_account"
   ]
  },
  {
   "cell_type": "code",
   "execution_count": null,
   "metadata": {},
   "outputs": [],
   "source": [
    "(14).to_bytes(1,byteorder='little')"
   ]
  },
  {
   "cell_type": "code",
   "execution_count": null,
   "metadata": {},
   "outputs": [],
   "source": [
    "password"
   ]
  },
  {
   "cell_type": "code",
   "execution_count": 65,
   "metadata": {},
   "outputs": [],
   "source": [
    "# initialize transaction\n",
    "x_val = 13\n",
    "y_val = 15\n",
    "data = pack('<BQQQ', 0,x_val,y_val,password)\n",
    "tx = Transaction()\n",
    "tx_instruction = TransactionInstruction(\n",
    "    keys=[AccountMeta(pubkey=escrow_address, is_signer=False, is_writable=True),\n",
    "          AccountMeta(pubkey=X_mint_account_address.pubkey, is_signer=False, is_writable=False),\n",
    "          AccountMeta(pubkey=Y_mint_account_address.pubkey, is_signer=False, is_writable=False),\n",
    "          AccountMeta(pubkey=vaultx, is_signer=False, is_writable=True),\n",
    "          AccountMeta(pubkey=vaulty, is_signer=False, is_writable=True),\n",
    "          AccountMeta(pubkey=payer_public_key, is_signer=True, is_writable=False),\n",
    "          AccountMeta(pubkey=alice_pubkey, is_signer=False, is_writable=False),\n",
    "          AccountMeta(pubkey=bob_pubkey, is_signer=False, is_writable=False),\n",
    "          AccountMeta(pubkey=TOKEN_PROGRAM_ID, is_signer=False, is_writable=False),\n",
    "          AccountMeta(pubkey=SYSVAR_RENT_PUBKEY, is_signer=False, is_writable=False),\n",
    "          AccountMeta(pubkey=SYS_PROGRAM_ID, is_signer=False, is_writable=False),\n",
    "#           AccountMeta(pubkey=program_id, is_signer=False, is_writable=False),\n",
    "         ],\n",
    "    program_id=program_id,\n",
    "    data=data, #struct.pack(\"<LHB\",1,1,1) # b58encode(bytes([9] * 7))#b'0001000100010001000100010001',\n",
    ")\n",
    "\n",
    "tx = tx.add(tx_instruction)\n",
    "\n",
    "\n",
    "transaction_results = http_client.send_transaction(tx, *[payer_loaded_account])#, *[payer_loaded_account])"
   ]
  },
  {
   "cell_type": "code",
   "execution_count": 60,
   "metadata": {},
   "outputs": [
    {
     "data": {
      "text/plain": [
       "GLtDmR429wbumeYUWxYkifFS9gTohfDKY9pmaVJg3Jzh"
      ]
     },
     "execution_count": 60,
     "metadata": {},
     "output_type": "execute_result"
    }
   ],
   "source": [
    "escrow_address"
   ]
  },
  {
   "cell_type": "code",
   "execution_count": 66,
   "metadata": {},
   "outputs": [
    {
     "name": "stdout",
     "output_type": "stream",
     "text": [
      "218\n",
      "(13, 15)\n",
      "(1, False, False)\n",
      "b'\\x96W\\x07\\xfeo\\x9b\\xda>R}\\x8b:v\\xa1\\xbeT\\x03\\\\B7\\xee?]\\xa6\\xd5\\x15\\xddF\\x7fs\\xcc\\xfe'\n"
     ]
    },
    {
     "data": {
      "text/plain": [
       "b'\\x96W\\x07\\xfeo\\x9b\\xda>R}\\x8b:v\\xa1\\xbeT\\x03\\\\B7\\xee?]\\xa6\\xd5\\x15\\xddF\\x7fs\\xcc\\xfe'"
      ]
     },
     "execution_count": 66,
     "metadata": {},
     "output_type": "execute_result"
    }
   ],
   "source": [
    "time.sleep(15)\n",
    "a = http_client.get_account_info(escrow_address)['result']['value']['data'][0]\n",
    "import base64\n",
    "print(len(base64.b64decode(a)))\n",
    "print(unpack('<QQ', base64.b64decode(a)[:16]))\n",
    "print(unpack('<Q??', base64.b64decode(a)[208:218]))\n",
    "print(base64.b64decode(a)[16:16+32])\n",
    "bytes(alice_pubkey)\n",
    "\n",
    "# Q 8 bytes\n",
    "# a 400 bytes\n",
    "\n",
    "\n",
    "# xval: u64,   8 byte\n",
    "# yval: u64,   8 byte\n",
    "# a_pub_key: Pubkey, 32 byte\n",
    "# b_pub_key: Pubkey, 32 byte\n",
    "# mint_x_pub_key: Pubkey,  32 byte\n",
    "# mint_y_pub_key: Pubkey,  32 byte\n",
    "# vault_x_pub_key: Pubkey, 32 byte\n",
    "# vault_y_pub_key: Pubkey, 32 byte\n",
    "# init_deposit_status: u64, 8 byte\n",
    "# is_a_withdrawed: u8,    1byte\n",
    "# is_b_withdrawed: u8,    1byte"
   ]
  },
  {
   "cell_type": "code",
   "execution_count": null,
   "metadata": {},
   "outputs": [],
   "source": [
    "base64.b64decode(a)[:227]"
   ]
  },
  {
   "cell_type": "code",
   "execution_count": 67,
   "metadata": {},
   "outputs": [],
   "source": [
    "# deposite x\n",
    "from struct import *\n",
    "data = pack('<BQ', 1, password)\n",
    "\n",
    "import struct\n",
    "tx = Transaction()\n",
    "tx_instruction = TransactionInstruction(\n",
    "    keys=[AccountMeta(pubkey=escrow_address, is_signer=False, is_writable=True),\n",
    "          AccountMeta(pubkey=alice_X_token_account, is_signer=False, is_writable=True), # x_a info\n",
    "          AccountMeta(pubkey=vaultx, is_signer=False, is_writable=True),\n",
    "          AccountMeta(pubkey=alice_pubkey, is_signer=True, is_writable=False),\n",
    "          AccountMeta(pubkey=TOKEN_PROGRAM_ID, is_signer=False, is_writable=False),\n",
    "         ],\n",
    "    program_id=program_id,\n",
    "    data=  data,\n",
    ")\n",
    "\n",
    "tx = tx.add(tx_instruction)\n",
    "\n",
    "\n",
    "transaction_results = http_client.send_transaction(tx, *[alice_keypair])#, *[payer_loaded_account])"
   ]
  },
  {
   "cell_type": "code",
   "execution_count": 70,
   "metadata": {},
   "outputs": [],
   "source": [
    "# deposite y\n",
    "# time.sleep(30)\n",
    "from struct import *\n",
    "data = pack('<BQ', 1 , password)\n",
    "\n",
    "import struct\n",
    "tx = Transaction()\n",
    "tx_instruction = TransactionInstruction(\n",
    "    keys=[AccountMeta(pubkey=escrow_address, is_signer=False, is_writable=True),\n",
    "          AccountMeta(pubkey=bob_Y_token_account, is_signer=False, is_writable=True), # x_a info\n",
    "          AccountMeta(pubkey=vaulty, is_signer=False, is_writable=True),\n",
    "          AccountMeta(pubkey=bob_pubkey, is_signer=True, is_writable=False),\n",
    "          AccountMeta(pubkey=TOKEN_PROGRAM_ID, is_signer=False, is_writable=False),\n",
    "         ],\n",
    "    program_id=program_id,\n",
    "    data=  data,\n",
    ")\n",
    "\n",
    "tx = tx.add(tx_instruction)\n",
    "\n",
    "\n",
    "transaction_results = http_client.send_transaction(tx, *[bob_keypair])#, *[payer_loaded_account])"
   ]
  },
  {
   "cell_type": "code",
   "execution_count": 76,
   "metadata": {},
   "outputs": [],
   "source": [
    "# withdraw alice\n",
    "from struct import *\n",
    "data = pack('<BQ', 2, password)\n",
    "\n",
    "import struct\n",
    "tx = Transaction()\n",
    "tx_instruction = TransactionInstruction(\n",
    "    keys=[AccountMeta(pubkey=escrow_address, is_signer=False, is_writable=True),\n",
    "          AccountMeta(pubkey=alice_Y_token_account, is_signer=False, is_writable=True), # x_a info\n",
    "          AccountMeta(pubkey=vaulty, is_signer=False, is_writable=True),\n",
    "          AccountMeta(pubkey=alice_pubkey, is_signer=True, is_writable=False),\n",
    "          AccountMeta(pubkey=TOKEN_PROGRAM_ID, is_signer=False, is_writable=False),\n",
    "         ],\n",
    "    program_id=program_id,\n",
    "    data=  data,\n",
    ")\n",
    "\n",
    "tx = tx.add(tx_instruction)\n",
    "\n",
    "\n",
    "transaction_results = http_client.send_transaction(tx, *[alice_keypair])#, *[payer_loaded_account])"
   ]
  },
  {
   "cell_type": "code",
   "execution_count": 88,
   "metadata": {},
   "outputs": [
    {
     "data": {
      "text/plain": [
       "{'jsonrpc': '2.0',\n",
       " 'result': {'context': {'slot': 87155767},\n",
       "  'value': {'data': ['bI0IOY3QS0Ah6U7ad9K8yEJEHxZ6seO9Gfk0hwWVj4SWVwf+b5vaPlJ9izp2ob5UA1xCN+4/XabVFd1Gf3PM/i0AAAAAAAAAAAAAAAAAAAAAAAAAAAAAAAAAAAAAAAAAAAAAAAAAAAAAAAAAAQAAAAAAAAAAAAAAAAAAAAAAAAAAAAAAAAAAAAAAAAAAAAAAAAAAAAAAAAAAAAAAAAAAAAAAAAAA',\n",
       "    'base64'],\n",
       "   'executable': False,\n",
       "   'lamports': 2039280,\n",
       "   'owner': 'TokenkegQfeZyiNwAJbNbGKPFXCWuBvf9Ss623VQ5DA',\n",
       "   'rentEpoch': 201}},\n",
       " 'id': 143}"
      ]
     },
     "execution_count": 88,
     "metadata": {},
     "output_type": "execute_result"
    }
   ],
   "source": [
    "a = http_client.get_account_info(alice_Y_token_account)\n",
    "a"
   ]
  },
  {
   "cell_type": "code",
   "execution_count": 77,
   "metadata": {},
   "outputs": [],
   "source": [
    "# withdraw bob\n",
    "from struct import *\n",
    "data = pack('<BQ', 2, password) \n",
    "\n",
    "import struct\n",
    "tx = Transaction()\n",
    "tx_instruction = TransactionInstruction(\n",
    "    keys=[AccountMeta(pubkey=escrow_address, is_signer=False, is_writable=True),\n",
    "          AccountMeta(pubkey=bob_X_token_account, is_signer=False, is_writable=True), # x_a info\n",
    "          AccountMeta(pubkey=vaultx, is_signer=False, is_writable=True),\n",
    "          AccountMeta(pubkey=bob_pubkey, is_signer=True, is_writable=False),\n",
    "          AccountMeta(pubkey=TOKEN_PROGRAM_ID, is_signer=False, is_writable=False),\n",
    "         ],\n",
    "    program_id=program_id,\n",
    "    data=  data,\n",
    ")\n",
    "\n",
    "tx = tx.add(tx_instruction)\n",
    "\n",
    "\n",
    "transaction_results = http_client.send_transaction(tx, *[bob_keypair])#, *[payer_loaded_account])"
   ]
  },
  {
   "cell_type": "code",
   "execution_count": null,
   "metadata": {},
   "outputs": [],
   "source": [
    "# Trouble shooting\n",
    "# {'code': -32602, 'message': 'invalid transaction: index out of bounds'}: probabily signed with different account in send_transaction function\n",
    "# debit credit, pobably you need to airdrop solana to the account\n",
    "# Cross-program invocation with unauthorized signer or writable account: the signer has not signed correctly in send_transaction\n",
    "# Failed to serialize or deserialize account data it was where I wanted to write from account data to a struct and account data length was more than strust length (remember struct length shuld be in bytes not bits)"
   ]
  },
  {
   "cell_type": "code",
   "execution_count": null,
   "metadata": {},
   "outputs": [],
   "source": []
  },
  {
   "cell_type": "code",
   "execution_count": null,
   "metadata": {},
   "outputs": [],
   "source": []
  }
 ],
 "metadata": {
  "kernelspec": {
   "display_name": "Python 3",
   "language": "python",
   "name": "python3"
  },
  "language_info": {
   "codemirror_mode": {
    "name": "ipython",
    "version": 3
   },
   "file_extension": ".py",
   "mimetype": "text/x-python",
   "name": "python",
   "nbconvert_exporter": "python",
   "pygments_lexer": "ipython3",
   "version": "3.9.5"
  }
 },
 "nbformat": 4,
 "nbformat_minor": 4
}
