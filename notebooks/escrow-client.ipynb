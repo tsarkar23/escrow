{
 "cells": [
  {
   "cell_type": "code",
   "execution_count": 1,
   "metadata": {},
   "outputs": [],
   "source": [
    "# accounts\n",
    "import json\n",
    "import solana\n",
    "import time\n",
    "import sys\n",
    "import glob\n",
    "from solana.rpc.api import Client\n",
    "from solana.blockhash import Blockhash\n",
    "from solana.publickey import PublicKey\n",
    "from solana.system_program import CreateAccountWithSeedParams, create_account_with_seed, CreateAccountParams, create_account\n",
    "from solana.transaction import Transaction, AccountMeta, TransactionInstruction\n",
    "from solana.system_program import SYS_PROGRAM_ID\n",
    "from spl.token.client import Token\n",
    "from solana import keypair\n",
    "from solana.publickey import PublicKey\n",
    "from solana.sysvar import SYSVAR_RENT_PUBKEY"
   ]
  },
  {
   "cell_type": "code",
   "execution_count": 2,
   "metadata": {},
   "outputs": [
    {
     "name": "stdout",
     "output_type": "stream",
     "text": [
      "Payer Account: 6vVPrx5MpNpsPudCYuGgeAwpjSZffohqXB2z4NnAk894\n",
      "alice Account: iBgsen9yRWqTa11BqvNuEwSkEvu4c5g2DzMdGrXd3wL\n",
      "bob Account: Eduww4vXpX593ghUzQSJnidRThFmACKjYPJ13nb1Cc6S\n"
     ]
    }
   ],
   "source": [
    "TOKEN_PROGRAM_ID: PublicKey = PublicKey(\"TokenkegQfeZyiNwAJbNbGKPFXCWuBvf9Ss623VQ5DA\")\n",
    "\n",
    "# first_key_in_key_folder = glob.glob(\"../keys/*\")[0]\n",
    "# payer_loaded_account = solana.keypair.Keypair(json.load(open(first_key_in_key_folder))[:32])\n",
    "# payer_public_key = payer_loaded_account.public_key\n",
    "payer_loaded_account = solana.keypair.Keypair.generate()\n",
    "payer_public_key = payer_loaded_account.public_key\n",
    "\n",
    "\n",
    "\n",
    "http_client = Client(\"https://api.devnet.solana.com\")\n",
    "\n",
    "\n",
    "\n",
    "\n",
    "# todo: change program_id to system program, change data size =0, change lampord for both alice and bob\n",
    "alice_keypair = solana.keypair.Keypair.generate()\n",
    "alice_pubkey = alice_keypair.public_key\n",
    "\n",
    "\n",
    "\n",
    "bob_keypair = solana.keypair.Keypair.generate()\n",
    "bob_pubkey = bob_keypair.public_key\n",
    "\n",
    "\n",
    "print(f\"Payer Account: {payer_public_key}\")\n",
    "print(f\"alice Account: {alice_pubkey}\")\n",
    "print(f\"bob Account: {bob_pubkey}\")"
   ]
  },
  {
   "cell_type": "code",
   "execution_count": 5,
   "metadata": {},
   "outputs": [
    {
     "name": "stdout",
     "output_type": "stream",
     "text": [
      "{'jsonrpc': '2.0', 'result': {'context': {'slot': 86745718}, 'value': 0}, 'id': 6}\n"
     ]
    }
   ],
   "source": [
    "import time\n",
    "# http_client.request_airdrop(payer_loaded_account.public_key, 1000000000)\n",
    "# time.sleep(10)\n",
    "http_client.request_airdrop(alice_pubkey, 1000000000)\n",
    "time.sleep(15)\n",
    "http_client.request_airdrop(bob_pubkey, 1000000000)\n",
    "print(http_client.get_balance(alice_pubkey))\n",
    "# print(http_client.get_balance(bob_pubkey))\n",
    "# print(http_client.get_balance(payer_loaded_account.public_key))\n",
    "# print(http_client.get_minimum_balance_for_rent_exemption(7)[\"result\"])"
   ]
  },
  {
   "cell_type": "code",
   "execution_count": 6,
   "metadata": {},
   "outputs": [],
   "source": [
    "X_mint_account_address = Token.create_mint(conn= http_client, payer = payer_loaded_account, mint_authority = payer_loaded_account.public_key, decimals = 0, program_id = TOKEN_PROGRAM_ID, )\n",
    "Y_mint_account_address = Token.create_mint(conn= http_client, payer = payer_loaded_account, mint_authority = payer_loaded_account.public_key, decimals = 0, program_id = TOKEN_PROGRAM_ID, )\n",
    "alice_X_token_account = X_mint_account_address.create_associated_token_account(alice_pubkey)\n",
    "alice_Y_token_account = Y_mint_account_address.create_associated_token_account(alice_pubkey)\n",
    "bob_X_token_account = X_mint_account_address.create_associated_token_account(bob_pubkey)\n",
    "bob_Y_token_account = Y_mint_account_address.create_associated_token_account(bob_pubkey)"
   ]
  },
  {
   "cell_type": "code",
   "execution_count": 115,
   "metadata": {},
   "outputs": [
    {
     "data": {
      "text/plain": [
       "{'jsonrpc': '2.0',\n",
       " 'result': '2X4FYkETEv7QgrSEPnkoheJJ5ygineKrwtnnVDMKgFX5sLg3peqWxhYwtsyQ1A7WcPandm6USmptX5rM4npnpSYq',\n",
       " 'id': 102}"
      ]
     },
     "execution_count": 115,
     "metadata": {},
     "output_type": "execute_result"
    }
   ],
   "source": [
    "X_mint_account_address.mint_to(alice_X_token_account,payer_loaded_account,1000)\n",
    "Y_mint_account_address.mint_to(bob_Y_token_account,payer_loaded_account,100)"
   ]
  },
  {
   "cell_type": "code",
   "execution_count": 116,
   "metadata": {},
   "outputs": [],
   "source": [
    "# escrow meta-data account\n",
    "deployed_program_key = glob.glob(\"../target/deploy/*.json\")[0]\n",
    "deployed_program_key_account = solana.keypair.Keypair(json.load(open(deployed_program_key))[:32])\n",
    "program_id = deployed_program_key_account.public_key"
   ]
  },
  {
   "cell_type": "code",
   "execution_count": 147,
   "metadata": {},
   "outputs": [
    {
     "data": {
      "text/plain": [
       "ABmUtVFoSJ7Rf35iCEEQ6mk5kejKcNMrdkDMus1PWKhd"
      ]
     },
     "execution_count": 147,
     "metadata": {},
     "output_type": "execute_result"
    }
   ],
   "source": [
    "alice_Y_token_account"
   ]
  },
  {
   "cell_type": "code",
   "execution_count": 135,
   "metadata": {},
   "outputs": [],
   "source": [
    "# todo, create seed more specific\n",
    "password = (10).to_bytes(8,byteorder='little') #b'password'\n",
    "x_seeds = [\n",
    "    b\"vault_x\",\n",
    "    password,\n",
    "    bytes(alice_pubkey),\n",
    "    bytes(bob_pubkey),\n",
    "    bytes(X_mint_account_address.pubkey),\n",
    "    bytes(Y_mint_account_address.pubkey),\n",
    "]\n",
    "\n",
    "y_seeds = [\n",
    "    b\"vault_y\",\n",
    "    password,\n",
    "    bytes(alice_pubkey),\n",
    "    bytes(bob_pubkey),\n",
    "    bytes(X_mint_account_address.pubkey),\n",
    "    bytes(Y_mint_account_address.pubkey),\n",
    "]\n",
    "\n",
    "escrow_seeds = [\n",
    "    b\"escrow\",\n",
    "    password,\n",
    "    bytes(alice_pubkey),\n",
    "    bytes(bob_pubkey),\n",
    "    bytes(X_mint_account_address.pubkey),\n",
    "    bytes(Y_mint_account_address.pubkey),\n",
    "]\n",
    "\n",
    "\n",
    "vaultx, xseed = PublicKey.find_program_address(seeds=x_seeds,program_id=program_id)\n",
    "vaulty, yseed = PublicKey.find_program_address(seeds=y_seeds,program_id=program_id)\n",
    "escrow_address, escrow_seed = PublicKey.find_program_address(seeds=escrow_seeds,program_id=program_id)"
   ]
  },
  {
   "cell_type": "code",
   "execution_count": 141,
   "metadata": {},
   "outputs": [
    {
     "data": {
      "text/plain": [
       "3yPETThCShhUPvRZGyzXVvzkSsXC8SFRUwtHQzt4dM3a"
      ]
     },
     "execution_count": 141,
     "metadata": {},
     "output_type": "execute_result"
    }
   ],
   "source": [
    "vaulty"
   ]
  },
  {
   "cell_type": "code",
   "execution_count": 119,
   "metadata": {},
   "outputs": [
    {
     "data": {
      "text/plain": [
       "32"
      ]
     },
     "execution_count": 119,
     "metadata": {},
     "output_type": "execute_result"
    }
   ],
   "source": [
    "alice1 = [10, 140, 229, 196, 196, 173, 137, 112, 235, 104, 209, 194, 248, 49, 198, 12, 133, 186, 173, 133, 113, 136, 155, 72, 174, 44, 101, 204, 105, 117, 221, 119]\n",
    "len(alice1)"
   ]
  },
  {
   "cell_type": "code",
   "execution_count": 120,
   "metadata": {},
   "outputs": [
    {
     "data": {
      "text/plain": [
       "b'\\n\\x8c\\xe5\\xc4\\xc4\\xad\\x89p\\xebh\\xd1\\xc2\\xf81\\xc6\\x0c\\x85\\xba\\xad\\x85q\\x88\\x9bH\\xae,e\\xcciu\\xddw'"
      ]
     },
     "execution_count": 120,
     "metadata": {},
     "output_type": "execute_result"
    }
   ],
   "source": [
    "bytes(alice_pubkey)"
   ]
  },
  {
   "cell_type": "code",
   "execution_count": 121,
   "metadata": {},
   "outputs": [
    {
     "data": {
      "text/plain": [
       "b'\\xe5'"
      ]
     },
     "execution_count": 121,
     "metadata": {},
     "output_type": "execute_result"
    }
   ],
   "source": [
    "(229).to_bytes(1,byteorder='little')"
   ]
  },
  {
   "cell_type": "code",
   "execution_count": null,
   "metadata": {},
   "outputs": [],
   "source": []
  },
  {
   "cell_type": "code",
   "execution_count": 137,
   "metadata": {},
   "outputs": [
    {
     "name": "stdout",
     "output_type": "stream",
     "text": [
      "B4kmMztf3YNhXTfbY6GGDV1hZc8Reh2SH3dpNx8h7ctw\n",
      "3yPETThCShhUPvRZGyzXVvzkSsXC8SFRUwtHQzt4dM3a\n",
      "A4NaZnruYPCqrno48QWTxTKCTZFXCcqTVvYbYS8qzad8\n",
      "6rtZCTuF3hwKZhm6R6HJQGQ4nYq6ihYsCKXd4rUBw9KL\n"
     ]
    }
   ],
   "source": [
    "print(vaultx)\n",
    "print(vaulty)\n",
    "print(escrow_address)\n",
    "print(program_id)"
   ]
  },
  {
   "cell_type": "code",
   "execution_count": 123,
   "metadata": {},
   "outputs": [
    {
     "name": "stdout",
     "output_type": "stream",
     "text": [
      "b'\\x00\\r\\x00\\x00\\x00\\x00\\x00\\x00\\x00\\x0f\\x00\\x00\\x00\\x00\\x00\\x00\\x00\\x10\\x00\\x00\\x00\\x00\\x00\\x00\\x00'\n",
      "b'\\x00\\r\\x00\\x00\\x00\\x00\\x00\\x00\\x00\\x0f\\x00\\x00\\x00\\x00\\x00\\x00\\x00\\x10\\x00\\x00\\x00\\x00\\x00\\x00\\x00'\n"
     ]
    }
   ],
   "source": [
    "password = (16).to_bytes(8,byteorder='little')\n",
    "data1 = pack('<BQQ', 0,13,15)  + password\n",
    "data2 = pack('<BQQQ', 0,13,15,16)\n",
    "print(data1)\n",
    "print(data2)"
   ]
  },
  {
   "cell_type": "code",
   "execution_count": 124,
   "metadata": {},
   "outputs": [],
   "source": [
    "pass1 = [16, 0, 0, 0, 0, 0, 0, 0]"
   ]
  },
  {
   "cell_type": "code",
   "execution_count": null,
   "metadata": {},
   "outputs": [],
   "source": []
  },
  {
   "cell_type": "code",
   "execution_count": 125,
   "metadata": {},
   "outputs": [
    {
     "data": {
      "text/plain": [
       "b'\\x0e'"
      ]
     },
     "execution_count": 125,
     "metadata": {},
     "output_type": "execute_result"
    }
   ],
   "source": [
    "(14).to_bytes(1,byteorder='little')"
   ]
  },
  {
   "cell_type": "code",
   "execution_count": 126,
   "metadata": {},
   "outputs": [
    {
     "data": {
      "text/plain": [
       "b'\\x10\\x00\\x00\\x00\\x00\\x00\\x00\\x00'"
      ]
     },
     "execution_count": 126,
     "metadata": {},
     "output_type": "execute_result"
    }
   ],
   "source": [
    "password"
   ]
  },
  {
   "cell_type": "code",
   "execution_count": 136,
   "metadata": {},
   "outputs": [],
   "source": [
    "# initialize transaction\n",
    "from struct import *\n",
    "data = pack('<BQQ', 0,13,15)  + password\n",
    "\n",
    "import struct\n",
    "tx = Transaction()\n",
    "tx_instruction = TransactionInstruction(\n",
    "    keys=[AccountMeta(pubkey=escrow_address, is_signer=False, is_writable=True),\n",
    "          AccountMeta(pubkey=X_mint_account_address.pubkey, is_signer=False, is_writable=False),\n",
    "          AccountMeta(pubkey=Y_mint_account_address.pubkey, is_signer=False, is_writable=False),\n",
    "          AccountMeta(pubkey=vaultx, is_signer=False, is_writable=True),\n",
    "          AccountMeta(pubkey=vaulty, is_signer=False, is_writable=True),\n",
    "          AccountMeta(pubkey=payer_public_key, is_signer=True, is_writable=False),\n",
    "          AccountMeta(pubkey=alice_pubkey, is_signer=False, is_writable=False),\n",
    "          AccountMeta(pubkey=bob_pubkey, is_signer=False, is_writable=False),\n",
    "          AccountMeta(pubkey=TOKEN_PROGRAM_ID, is_signer=False, is_writable=False),\n",
    "          AccountMeta(pubkey=SYSVAR_RENT_PUBKEY, is_signer=False, is_writable=False),\n",
    "          AccountMeta(pubkey=SYS_PROGRAM_ID, is_signer=False, is_writable=False),\n",
    "#           AccountMeta(pubkey=program_id, is_signer=False, is_writable=False),\n",
    "         ],\n",
    "    program_id=program_id,\n",
    "    data=  data, #struct.pack(\"<LHB\",1,1,1) # b58encode(bytes([9] * 7))#b'0001000100010001000100010001',\n",
    ")\n",
    "\n",
    "tx = tx.add(tx_instruction)\n",
    "\n",
    "\n",
    "transaction_results = http_client.send_transaction(tx, *[payer_loaded_account])#, *[payer_loaded_account])"
   ]
  },
  {
   "cell_type": "code",
   "execution_count": 138,
   "metadata": {},
   "outputs": [
    {
     "name": "stdout",
     "output_type": "stream",
     "text": [
      "218\n",
      "(13, 15, 8109203664685861898)\n",
      "(1, False, False)\n",
      "b'\\n\\x8c\\xe5\\xc4\\xc4\\xad\\x89p\\xebh\\xd1\\xc2\\xf81\\xc6\\x0c\\x85\\xba\\xad\\x85q\\x88\\x9bH\\xae,e\\xcciu\\xddw'\n"
     ]
    },
    {
     "data": {
      "text/plain": [
       "b'\\n\\x8c\\xe5\\xc4\\xc4\\xad\\x89p\\xebh\\xd1\\xc2\\xf81\\xc6\\x0c\\x85\\xba\\xad\\x85q\\x88\\x9bH\\xae,e\\xcciu\\xddw'"
      ]
     },
     "execution_count": 138,
     "metadata": {},
     "output_type": "execute_result"
    }
   ],
   "source": [
    "# time.sleep(0)\n",
    "a = http_client.get_account_info(escrow_address)['result']['value']['data'][0]\n",
    "import base64\n",
    "print(len(base64.b64decode(a)))\n",
    "print(unpack('<QQQ', base64.b64decode(a)[:24]))\n",
    "print(unpack('<Q??', base64.b64decode(a)[208:218]))\n",
    "print(base64.b64decode(a)[16:16+32])\n",
    "bytes(alice_pubkey)\n",
    "\n",
    "# Q 8 bytes\n",
    "# a 400 bytes\n",
    "\n",
    "\n",
    "# xval: u64,   8 byte\n",
    "# yval: u64,   8 byte\n",
    "# a_pub_key: Pubkey, 32 byte\n",
    "# b_pub_key: Pubkey, 32 byte\n",
    "# mint_x_pub_key: Pubkey,  32 byte\n",
    "# mint_y_pub_key: Pubkey,  32 byte\n",
    "# vault_x_pub_key: Pubkey, 32 byte\n",
    "# vault_y_pub_key: Pubkey, 32 byte\n",
    "# init_deposit_status: u64, 8 byte\n",
    "# is_a_withdrawed: u8,    1byte\n",
    "# is_b_withdrawed: u8,    1byte"
   ]
  },
  {
   "cell_type": "code",
   "execution_count": 107,
   "metadata": {},
   "outputs": [
    {
     "data": {
      "text/plain": [
       "b'\\r\\x00\\x00\\x00\\x00\\x00\\x00\\x00\\x0f\\x00\\x00\\x00\\x00\\x00\\x00\\x00\\x0e\\x00\\x00\\x00\\x00\\x00\\x00\\x00\\n\\x8c\\xe5\\xc4\\xc4\\xad\\x89p\\xebh\\xd1\\xc2\\xf81\\xc6\\x0c\\x85\\xba\\xad\\x85q\\x88\\x9bH\\xae,e\\xcciu\\xddw\\xca\\x9c\\xb4\\xe7E\\x82\\xc7\\xe5\\xaa\\xf4\\xb6\\x8a\\x07XA*\\x8b\\x00\\xaf@\\xa5G\\xff\\xd3\\xf5\\x91p>\\xfb\\xf4\\xe4_\\x81\\xa5\\xd7\\xe7\\xdf\\xc2\\xb5Y\\xb3ZUx\\x8av7\\x9b\\xf3\\x07pf\\x92\\x00\\x04\\x0c\\xa2\\xa7\\xe8\\x83b\\xc5\\xd8\\xca\\xb9\\x94\\xce,\\x00e\\xf3QF\\x8c\\xa2^\\x13\\x1d\\xd4\\r\\xc0\">@\\xc9R\\xe6\\xbb\\x80\\x82a\\x06t\\xb1N\\xd2(\\x9d\\x1a\\xfa\\xce\\x97\\x83\\xfd\\xeb\\xb6\\xa1\\x88\\xc3\\n\\x81\\xab\\x9e\\x87Rc\\\\d\\xef\\xa5\\xe6\\xf86)%mo\\x90|\\xaf\\x19xHY\\x05%`\\'\\x83\\xb9@\\xcd~z0\\x96\\xde\\xc1Y\\xadv\\n!\\xea\\x9d\\xeb\\xa5\\x83\\x001\\x01\\x00\\x00\\x00\\x00\\x00\\x00\\x00\\x00\\x00\\x00'"
      ]
     },
     "execution_count": 107,
     "metadata": {},
     "output_type": "execute_result"
    }
   ],
   "source": [
    "base64.b64decode(a)[:227]"
   ]
  },
  {
   "cell_type": "code",
   "execution_count": 139,
   "metadata": {},
   "outputs": [],
   "source": [
    "# deposite x\n",
    "from struct import *\n",
    "data = pack('<B', 1)\n",
    "\n",
    "import struct\n",
    "tx = Transaction()\n",
    "tx_instruction = TransactionInstruction(\n",
    "    keys=[AccountMeta(pubkey=escrow_address, is_signer=False, is_writable=True),\n",
    "          AccountMeta(pubkey=alice_X_token_account, is_signer=False, is_writable=True), # x_a info\n",
    "          AccountMeta(pubkey=vaultx, is_signer=False, is_writable=True),\n",
    "          AccountMeta(pubkey=alice_pubkey, is_signer=True, is_writable=False),\n",
    "          AccountMeta(pubkey=TOKEN_PROGRAM_ID, is_signer=False, is_writable=False),\n",
    "         ],\n",
    "    program_id=program_id,\n",
    "    data=  data,\n",
    ")\n",
    "\n",
    "tx = tx.add(tx_instruction)\n",
    "\n",
    "\n",
    "transaction_results = http_client.send_transaction(tx, *[alice_keypair])#, *[payer_loaded_account])"
   ]
  },
  {
   "cell_type": "code",
   "execution_count": 143,
   "metadata": {},
   "outputs": [],
   "source": [
    "# deposite y\n",
    "# time.sleep(30)\n",
    "from struct import *\n",
    "data = pack('<B', 1)\n",
    "\n",
    "import struct\n",
    "tx = Transaction()\n",
    "tx_instruction = TransactionInstruction(\n",
    "    keys=[AccountMeta(pubkey=escrow_address, is_signer=False, is_writable=True),\n",
    "          AccountMeta(pubkey=bob_Y_token_account, is_signer=False, is_writable=True), # x_a info\n",
    "          AccountMeta(pubkey=vaulty, is_signer=False, is_writable=True),\n",
    "          AccountMeta(pubkey=bob_pubkey, is_signer=True, is_writable=False),\n",
    "          AccountMeta(pubkey=TOKEN_PROGRAM_ID, is_signer=False, is_writable=False),\n",
    "         ],\n",
    "    program_id=program_id,\n",
    "    data=  data,\n",
    ")\n",
    "\n",
    "tx = tx.add(tx_instruction)\n",
    "\n",
    "\n",
    "transaction_results = http_client.send_transaction(tx, *[bob_keypair])#, *[payer_loaded_account])"
   ]
  },
  {
   "cell_type": "code",
   "execution_count": 146,
   "metadata": {},
   "outputs": [],
   "source": [
    "# withdraw alice\n",
    "from struct import *\n",
    "data = pack('<B', 2) + password\n",
    "\n",
    "import struct\n",
    "tx = Transaction()\n",
    "tx_instruction = TransactionInstruction(\n",
    "    keys=[AccountMeta(pubkey=escrow_address, is_signer=False, is_writable=True),\n",
    "          AccountMeta(pubkey=alice_Y_token_account, is_signer=False, is_writable=True), # x_a info\n",
    "          AccountMeta(pubkey=vaulty, is_signer=False, is_writable=True),\n",
    "          AccountMeta(pubkey=alice_pubkey, is_signer=True, is_writable=False),\n",
    "          AccountMeta(pubkey=TOKEN_PROGRAM_ID, is_signer=False, is_writable=False),\n",
    "         ],\n",
    "    program_id=program_id,\n",
    "    data=  data,\n",
    ")\n",
    "\n",
    "tx = tx.add(tx_instruction)\n",
    "\n",
    "\n",
    "transaction_results = http_client.send_transaction(tx, *[alice_keypair])#, *[payer_loaded_account])"
   ]
  },
  {
   "cell_type": "code",
   "execution_count": 145,
   "metadata": {},
   "outputs": [
    {
     "ename": "RPCException",
     "evalue": "{'code': -32002, 'message': 'Transaction simulation failed: Error processing Instruction 0: Failed to serialize or deserialize account data: Unknown', 'data': {'accounts': None, 'err': {'InstructionError': [0, {'BorshIoError': 'Unknown'}]}, 'logs': ['Program 6rtZCTuF3hwKZhm6R6HJQGQ4nYq6ihYsCKXd4rUBw9KL invoke [1]', 'Program 6rtZCTuF3hwKZhm6R6HJQGQ4nYq6ihYsCKXd4rUBw9KL consumed 2401 of 200000 compute units', 'Program 6rtZCTuF3hwKZhm6R6HJQGQ4nYq6ihYsCKXd4rUBw9KL failed: Failed to serialize or deserialize account data: Unknown']}}",
     "output_type": "error",
     "traceback": [
      "\u001b[0;31m---------------------------------------------------------------------------\u001b[0m",
      "\u001b[0;31mRPCException\u001b[0m                              Traceback (most recent call last)",
      "\u001b[0;32m<ipython-input-145-61d177bd4ffa>\u001b[0m in \u001b[0;36m<module>\u001b[0;34m\u001b[0m\n\u001b[1;32m     19\u001b[0m \u001b[0;34m\u001b[0m\u001b[0m\n\u001b[1;32m     20\u001b[0m \u001b[0;34m\u001b[0m\u001b[0m\n\u001b[0;32m---> 21\u001b[0;31m \u001b[0mtransaction_results\u001b[0m \u001b[0;34m=\u001b[0m \u001b[0mhttp_client\u001b[0m\u001b[0;34m.\u001b[0m\u001b[0msend_transaction\u001b[0m\u001b[0;34m(\u001b[0m\u001b[0mtx\u001b[0m\u001b[0;34m,\u001b[0m \u001b[0;34m*\u001b[0m\u001b[0;34m[\u001b[0m\u001b[0mbob_keypair\u001b[0m\u001b[0;34m]\u001b[0m\u001b[0;34m)\u001b[0m\u001b[0;31m#, *[payer_loaded_account])\u001b[0m\u001b[0;34m\u001b[0m\u001b[0;34m\u001b[0m\u001b[0m\n\u001b[0m",
      "\u001b[0;32m~/miniconda/lib/python3.9/site-packages/solana/rpc/api.py\u001b[0m in \u001b[0;36msend_transaction\u001b[0;34m(self, txn, opts, recent_blockhash, *signers)\u001b[0m\n\u001b[1;32m   1058\u001b[0m \u001b[0;34m\u001b[0m\u001b[0m\n\u001b[1;32m   1059\u001b[0m         \u001b[0mtxn\u001b[0m\u001b[0;34m.\u001b[0m\u001b[0msign\u001b[0m\u001b[0;34m(\u001b[0m\u001b[0;34m*\u001b[0m\u001b[0msigners\u001b[0m\u001b[0;34m)\u001b[0m\u001b[0;34m\u001b[0m\u001b[0;34m\u001b[0m\u001b[0m\n\u001b[0;32m-> 1060\u001b[0;31m         \u001b[0mtxn_resp\u001b[0m \u001b[0;34m=\u001b[0m \u001b[0mself\u001b[0m\u001b[0;34m.\u001b[0m\u001b[0msend_raw_transaction\u001b[0m\u001b[0;34m(\u001b[0m\u001b[0mtxn\u001b[0m\u001b[0;34m.\u001b[0m\u001b[0mserialize\u001b[0m\u001b[0;34m(\u001b[0m\u001b[0;34m)\u001b[0m\u001b[0;34m,\u001b[0m \u001b[0mopts\u001b[0m\u001b[0;34m=\u001b[0m\u001b[0mopts\u001b[0m\u001b[0;34m)\u001b[0m\u001b[0;34m\u001b[0m\u001b[0;34m\u001b[0m\u001b[0m\n\u001b[0m\u001b[1;32m   1061\u001b[0m         \u001b[0;32mif\u001b[0m \u001b[0mself\u001b[0m\u001b[0;34m.\u001b[0m\u001b[0mblockhash_cache\u001b[0m\u001b[0;34m:\u001b[0m\u001b[0;34m\u001b[0m\u001b[0;34m\u001b[0m\u001b[0m\n\u001b[1;32m   1062\u001b[0m             \u001b[0mblockhash_resp\u001b[0m \u001b[0;34m=\u001b[0m \u001b[0mself\u001b[0m\u001b[0;34m.\u001b[0m\u001b[0mget_recent_blockhash\u001b[0m\u001b[0;34m(\u001b[0m\u001b[0;34m)\u001b[0m\u001b[0;34m\u001b[0m\u001b[0;34m\u001b[0m\u001b[0m\n",
      "\u001b[0;32m~/miniconda/lib/python3.9/site-packages/solana/rpc/api.py\u001b[0m in \u001b[0;36msend_raw_transaction\u001b[0;34m(self, txn, opts)\u001b[0m\n\u001b[1;32m   1014\u001b[0m         \u001b[0mresp\u001b[0m \u001b[0;34m=\u001b[0m \u001b[0mself\u001b[0m\u001b[0;34m.\u001b[0m\u001b[0m_provider\u001b[0m\u001b[0;34m.\u001b[0m\u001b[0mmake_request\u001b[0m\u001b[0;34m(\u001b[0m\u001b[0;34m*\u001b[0m\u001b[0margs\u001b[0m\u001b[0;34m)\u001b[0m\u001b[0;34m\u001b[0m\u001b[0;34m\u001b[0m\u001b[0m\n\u001b[1;32m   1015\u001b[0m         \u001b[0;32mif\u001b[0m \u001b[0mopts\u001b[0m\u001b[0;34m.\u001b[0m\u001b[0mskip_confirmation\u001b[0m\u001b[0;34m:\u001b[0m\u001b[0;34m\u001b[0m\u001b[0;34m\u001b[0m\u001b[0m\n\u001b[0;32m-> 1016\u001b[0;31m             \u001b[0;32mreturn\u001b[0m \u001b[0mself\u001b[0m\u001b[0;34m.\u001b[0m\u001b[0m_post_send\u001b[0m\u001b[0;34m(\u001b[0m\u001b[0mresp\u001b[0m\u001b[0;34m)\u001b[0m\u001b[0;34m\u001b[0m\u001b[0;34m\u001b[0m\u001b[0m\n\u001b[0m\u001b[1;32m   1017\u001b[0m         \u001b[0mpost_send_args\u001b[0m \u001b[0;34m=\u001b[0m \u001b[0mself\u001b[0m\u001b[0;34m.\u001b[0m\u001b[0m_send_raw_transaction_post_send_args\u001b[0m\u001b[0;34m(\u001b[0m\u001b[0mresp\u001b[0m\u001b[0;34m,\u001b[0m \u001b[0mopts\u001b[0m\u001b[0;34m)\u001b[0m\u001b[0;34m\u001b[0m\u001b[0;34m\u001b[0m\u001b[0m\n\u001b[1;32m   1018\u001b[0m         \u001b[0;32mreturn\u001b[0m \u001b[0mself\u001b[0m\u001b[0;34m.\u001b[0m\u001b[0m__post_send_with_confirm\u001b[0m\u001b[0;34m(\u001b[0m\u001b[0;34m*\u001b[0m\u001b[0mpost_send_args\u001b[0m\u001b[0;34m)\u001b[0m\u001b[0;34m\u001b[0m\u001b[0;34m\u001b[0m\u001b[0m\n",
      "\u001b[0;32m~/miniconda/lib/python3.9/site-packages/solana/rpc/core.py\u001b[0m in \u001b[0;36m_post_send\u001b[0;34m(resp)\u001b[0m\n\u001b[1;32m    362\u001b[0m         \u001b[0mmaybe_error\u001b[0m \u001b[0;34m=\u001b[0m \u001b[0mresp\u001b[0m\u001b[0;34m.\u001b[0m\u001b[0mget\u001b[0m\u001b[0;34m(\u001b[0m\u001b[0;34m\"error\"\u001b[0m\u001b[0;34m)\u001b[0m\u001b[0;34m\u001b[0m\u001b[0;34m\u001b[0m\u001b[0m\n\u001b[1;32m    363\u001b[0m         \u001b[0;32mif\u001b[0m \u001b[0mmaybe_error\u001b[0m \u001b[0;32mis\u001b[0m \u001b[0;32mnot\u001b[0m \u001b[0;32mNone\u001b[0m\u001b[0;34m:\u001b[0m\u001b[0;34m\u001b[0m\u001b[0;34m\u001b[0m\u001b[0m\n\u001b[0;32m--> 364\u001b[0;31m             \u001b[0;32mraise\u001b[0m \u001b[0mRPCException\u001b[0m\u001b[0;34m(\u001b[0m\u001b[0mmaybe_error\u001b[0m\u001b[0;34m)\u001b[0m\u001b[0;34m\u001b[0m\u001b[0;34m\u001b[0m\u001b[0m\n\u001b[0m\u001b[1;32m    365\u001b[0m         \u001b[0;32mif\u001b[0m \u001b[0;32mnot\u001b[0m \u001b[0mresp\u001b[0m\u001b[0;34m.\u001b[0m\u001b[0mget\u001b[0m\u001b[0;34m(\u001b[0m\u001b[0;34m\"result\"\u001b[0m\u001b[0;34m)\u001b[0m\u001b[0;34m:\u001b[0m\u001b[0;34m\u001b[0m\u001b[0;34m\u001b[0m\u001b[0m\n\u001b[1;32m    366\u001b[0m             \u001b[0;32mraise\u001b[0m \u001b[0mException\u001b[0m\u001b[0;34m(\u001b[0m\u001b[0;34m\"Failed to send transaction\"\u001b[0m\u001b[0;34m)\u001b[0m\u001b[0;34m\u001b[0m\u001b[0;34m\u001b[0m\u001b[0m\n",
      "\u001b[0;31mRPCException\u001b[0m: {'code': -32002, 'message': 'Transaction simulation failed: Error processing Instruction 0: Failed to serialize or deserialize account data: Unknown', 'data': {'accounts': None, 'err': {'InstructionError': [0, {'BorshIoError': 'Unknown'}]}, 'logs': ['Program 6rtZCTuF3hwKZhm6R6HJQGQ4nYq6ihYsCKXd4rUBw9KL invoke [1]', 'Program 6rtZCTuF3hwKZhm6R6HJQGQ4nYq6ihYsCKXd4rUBw9KL consumed 2401 of 200000 compute units', 'Program 6rtZCTuF3hwKZhm6R6HJQGQ4nYq6ihYsCKXd4rUBw9KL failed: Failed to serialize or deserialize account data: Unknown']}}"
     ]
    }
   ],
   "source": [
    "# withdraw bob\n",
    "from struct import *\n",
    "data = pack('<B', 2)+ password\n",
    "\n",
    "import struct\n",
    "tx = Transaction()\n",
    "tx_instruction = TransactionInstruction(\n",
    "    keys=[AccountMeta(pubkey=escrow_address, is_signer=False, is_writable=True),\n",
    "          AccountMeta(pubkey=bob_X_token_account, is_signer=False, is_writable=True), # x_a info\n",
    "          AccountMeta(pubkey=vaultx, is_signer=False, is_writable=True),\n",
    "          AccountMeta(pubkey=bob_pubkey, is_signer=True, is_writable=False),\n",
    "          AccountMeta(pubkey=TOKEN_PROGRAM_ID, is_signer=False, is_writable=False),\n",
    "         ],\n",
    "    program_id=program_id,\n",
    "    data=  data,\n",
    ")\n",
    "\n",
    "tx = tx.add(tx_instruction)\n",
    "\n",
    "\n",
    "transaction_results = http_client.send_transaction(tx, *[bob_keypair])#, *[payer_loaded_account])"
   ]
  },
  {
   "cell_type": "code",
   "execution_count": 142,
   "metadata": {},
   "outputs": [],
   "source": [
    "# Trouble shooting\n",
    "# {'code': -32602, 'message': 'invalid transaction: index out of bounds'}: probabily signed with different account in send_transaction function\n",
    "# debit credit, pobably you need to airdrop solana to the account\n",
    "# Cross-program invocation with unauthorized signer or writable account: the signer has not signed correctly in send_transaction\n",
    "# Failed to serialize or deserialize account data it was where I wanted to write from account data to a struct and account data length was more than strust length (remember struct length shuld be in bytes not bits)"
   ]
  },
  {
   "cell_type": "code",
   "execution_count": null,
   "metadata": {},
   "outputs": [],
   "source": []
  }
 ],
 "metadata": {
  "kernelspec": {
   "display_name": "Python 3",
   "language": "python",
   "name": "python3"
  },
  "language_info": {
   "codemirror_mode": {
    "name": "ipython",
    "version": 3
   },
   "file_extension": ".py",
   "mimetype": "text/x-python",
   "name": "python",
   "nbconvert_exporter": "python",
   "pygments_lexer": "ipython3",
   "version": "3.9.5"
  }
 },
 "nbformat": 4,
 "nbformat_minor": 4
}
