{
 "cells": [
  {
   "cell_type": "code",
   "execution_count": 103,
   "metadata": {},
   "outputs": [],
   "source": [
    "# accounts\n",
    "import json\n",
    "import solana\n",
    "import time\n",
    "import sys\n",
    "import glob\n",
    "from solana.rpc.api import Client\n",
    "from solana.blockhash import Blockhash\n",
    "from solana.publickey import PublicKey\n",
    "from solana.system_program import CreateAccountWithSeedParams, create_account_with_seed, CreateAccountParams, create_account\n",
    "from solana.transaction import Transaction, AccountMeta, TransactionInstruction\n",
    "from solana.system_program import SYS_PROGRAM_ID\n",
    "from spl.token.client import Token\n",
    "from solana import keypair\n",
    "from solana.publickey import PublicKey\n",
    "from solana.sysvar import SYSVAR_RENT_PUBKEY"
   ]
  },
  {
   "cell_type": "code",
   "execution_count": 104,
   "metadata": {},
   "outputs": [
    {
     "name": "stdout",
     "output_type": "stream",
     "text": [
      "Payer Account: 763cSApzBT5scjhSd6BdnkKkMYBhiQmPn2gctswkdkJM\n",
      "alice Account: FLKPhbU8Kp8UdAuT8ZR2tfHM4dsCdSjhjabMZQ26JBX6\n",
      "bob Account: JDregqoW8YpQK26qi7UomtBsdDJav7VQh2Rvo35yEdRG\n"
     ]
    }
   ],
   "source": [
    "TOKEN_PROGRAM_ID: PublicKey = PublicKey(\"TokenkegQfeZyiNwAJbNbGKPFXCWuBvf9Ss623VQ5DA\")\n",
    "\n",
    "first_key_in_key_folder = glob.glob(\"../keys/*\")[0]\n",
    "payer_loaded_account = solana.keypair.Keypair(json.load(open(first_key_in_key_folder))[:32])\n",
    "\n",
    "\n",
    "http_client = Client(\"https://api.devnet.solana.com\")\n",
    "payer_public_key = payer_loaded_account.public_key\n",
    "\n",
    "\n",
    "\n",
    "# todo: change program_id to system program, change data size =0, change lampord for both alice and bob\n",
    "tx = Transaction()\n",
    "alice_keypair = solana.keypair.Keypair.generate()\n",
    "alice_pubkey = alice_keypair.public_key\n",
    "\n",
    "\n",
    "\n",
    "tx = Transaction()\n",
    "bob_keypair = solana.keypair.Keypair.generate()\n",
    "bob_pubkey = bob_keypair.public_key\n",
    "\n",
    "\n",
    "print(f\"Payer Account: {payer_public_key}\")\n",
    "print(f\"alice Account: {alice_pubkey}\")\n",
    "print(f\"bob Account: {bob_pubkey}\")"
   ]
  },
  {
   "cell_type": "code",
   "execution_count": 105,
   "metadata": {},
   "outputs": [],
   "source": [
    "X_mint_account_address = Token.create_mint(conn= http_client, payer = payer_loaded_account, mint_authority = payer_loaded_account.public_key, decimals = 0, program_id = TOKEN_PROGRAM_ID, )\n",
    "Y_mint_account_address = Token.create_mint(conn= http_client, payer = payer_loaded_account, mint_authority = payer_loaded_account.public_key, decimals = 0, program_id = TOKEN_PROGRAM_ID, )\n",
    "alice_X_token_account = X_mint_account_address.create_associated_token_account(alice_pubkey)\n",
    "alice_Y_token_account = Y_mint_account_address.create_associated_token_account(alice_pubkey)\n",
    "bob_X_token_account = X_mint_account_address.create_associated_token_account(bob_pubkey)\n",
    "bob_Y_token_account = Y_mint_account_address.create_associated_token_account(bob_pubkey)"
   ]
  },
  {
   "cell_type": "code",
   "execution_count": null,
   "metadata": {},
   "outputs": [],
   "source": []
  },
  {
   "cell_type": "code",
   "execution_count": 106,
   "metadata": {},
   "outputs": [
    {
     "data": {
      "text/plain": [
       "BJpUSqY51tbcqaAePVTomcLKTwoet5CsWUDcQ99E6Epq"
      ]
     },
     "execution_count": 106,
     "metadata": {},
     "output_type": "execute_result"
    }
   ],
   "source": [
    "X_mint_account_address.pubkey"
   ]
  },
  {
   "cell_type": "code",
   "execution_count": 107,
   "metadata": {},
   "outputs": [
    {
     "data": {
      "text/plain": [
       "Hd1xF2Bp1BoEeF2q3d2j1Mwuiw4VACVcCYC7sjyoVXzG"
      ]
     },
     "execution_count": 107,
     "metadata": {},
     "output_type": "execute_result"
    }
   ],
   "source": [
    "Y_mint_account_address.pubkey"
   ]
  },
  {
   "cell_type": "code",
   "execution_count": 108,
   "metadata": {},
   "outputs": [
    {
     "data": {
      "text/plain": [
       "yu3wkQ2fxFKirWaumqQGKYh96CeCqNhUNe5zWZZK2Kp"
      ]
     },
     "execution_count": 108,
     "metadata": {},
     "output_type": "execute_result"
    }
   ],
   "source": [
    "bob_Y_token_account"
   ]
  },
  {
   "cell_type": "code",
   "execution_count": 109,
   "metadata": {},
   "outputs": [
    {
     "data": {
      "text/plain": [
       "{'jsonrpc': '2.0',\n",
       " 'result': '62YgfoG1FrBee95CvnJHTURvuPFStbEtwo2XAMXuFYRas6aU8cgHGZ8sHSw8HBRwbh7keoxVoPzZXfLA2M1Mpr18',\n",
       " 'id': 42}"
      ]
     },
     "execution_count": 109,
     "metadata": {},
     "output_type": "execute_result"
    }
   ],
   "source": [
    "X_mint_account_address.mint_to(alice_X_token_account,payer_loaded_account,1000)\n",
    "Y_mint_account_address.mint_to(bob_Y_token_account,payer_loaded_account,100)"
   ]
  },
  {
   "cell_type": "code",
   "execution_count": 132,
   "metadata": {},
   "outputs": [
    {
     "name": "stdout",
     "output_type": "stream",
     "text": [
      "{'jsonrpc': '2.0', 'result': {'context': {'slot': 86345480}, 'value': 20636858754}, 'id': 66}\n"
     ]
    }
   ],
   "source": [
    "import time\n",
    "# http_client.request_airdrop(payer_loaded_account.public_key, 1000000000)\n",
    "# time.sleep(20)\n",
    "# http_client.request_airdrop(alice_pubkey, 1000000000)\n",
    "# time.sleep(20)\n",
    "# http_client.request_airdrop(bob_pubkey, 1000000000)\n",
    "# print(http_client.get_balance(alice_pubkey))\n",
    "# print(http_client.get_balance(bob_pubkey))\n",
    "print(http_client.get_balance(payer_loaded_account.public_key))\n",
    "# print(http_client.get_minimum_balance_for_rent_exemption(7)[\"result\"])"
   ]
  },
  {
   "cell_type": "code",
   "execution_count": 111,
   "metadata": {},
   "outputs": [
    {
     "name": "stdout",
     "output_type": "stream",
     "text": [
      "Program ID: 6QfnfdcHRHz3iucPW4nqeWkRR6ZfCACvajvxuqcduSFb\n"
     ]
    }
   ],
   "source": [
    "# escrow meta-data account\n",
    "deployed_program_key = glob.glob(\"../target/deploy/*.json\")[0]\n",
    "deployed_program_key_account = solana.keypair.Keypair(json.load(open(deployed_program_key))[:32])\n",
    "program_id = deployed_program_key_account.public_key\n",
    "\n",
    "\n",
    "tx = Transaction()\n",
    "escrow_keypair = solana.keypair.Keypair.generate()\n",
    "escrow_pubkey = escrow_keypair.public_key\n",
    "data_size = 100\n",
    "lamports = http_client.get_minimum_balance_for_rent_exemption(data_size)[\"result\"]\n",
    "transaction_instruction = create_account(\n",
    "        params=CreateAccountParams(\n",
    "            from_pubkey=payer_public_key, new_account_pubkey=escrow_pubkey,\n",
    "            lamports=lamports, space=data_size, program_id=program_id\n",
    "        )\n",
    "    )\n",
    "\n",
    "tx = tx.add(transaction_instruction)\n",
    "transaction_results = http_client.send_transaction(tx, *[payer_loaded_account,escrow_keypair])\n",
    "print(f\"Program ID: {program_id}\")"
   ]
  },
  {
   "cell_type": "code",
   "execution_count": 112,
   "metadata": {},
   "outputs": [],
   "source": [
    "# todo, creat seed more specific\n",
    "x_seeds = [\n",
    "    b\"vault_x\",\n",
    "    bytes(alice_pubkey),\n",
    "    bytes(bob_pubkey),\n",
    "    bytes(X_mint_account_address.pubkey),\n",
    "    bytes(Y_mint_account_address.pubkey),\n",
    "]\n",
    "\n",
    "y_seeds = [\n",
    "    b\"vault_y\",\n",
    "    bytes(alice_pubkey),\n",
    "    bytes(bob_pubkey),\n",
    "    bytes(X_mint_account_address.pubkey),\n",
    "    bytes(Y_mint_account_address.pubkey),\n",
    "]\n",
    "\n",
    "escrow_seeds = [\n",
    "    b\"escrow\",\n",
    "    bytes(alice_pubkey),\n",
    "    bytes(bob_pubkey),\n",
    "    bytes(X_mint_account_address.pubkey),\n",
    "    bytes(Y_mint_account_address.pubkey),\n",
    "]\n",
    "\n",
    "\n",
    "vaultx, xseed = PublicKey.find_program_address(seeds=x_seeds,program_id=program_id)\n",
    "vaulty, yseed = PublicKey.find_program_address(seeds=y_seeds,program_id=program_id)\n",
    "escrow_address, escrow_seed = PublicKey.find_program_address(seeds=escrow_seeds,program_id=program_id)"
   ]
  },
  {
   "cell_type": "code",
   "execution_count": 113,
   "metadata": {},
   "outputs": [
    {
     "name": "stdout",
     "output_type": "stream",
     "text": [
      "Eq4JRkqoK3uE7rM38PqKYo3FxfDJCwAZhC8w8wPoZ9zQ\n",
      "icudHyzUS6tMq7jiskti8GERLeK1E9uphvZDuu1w9ey\n",
      "H2zxnC3nyp9VaCn67BJDAqSnopMUBHALqeTXvz5NbEoz\n"
     ]
    }
   ],
   "source": [
    "print(vaultx)\n",
    "print(vaulty)\n",
    "print(escrow_address)"
   ]
  },
  {
   "cell_type": "code",
   "execution_count": 114,
   "metadata": {},
   "outputs": [],
   "source": [
    "# initialize transaction\n",
    "from struct import *\n",
    "data = pack('<BQQ', 0,13,15)\n",
    "\n",
    "import struct\n",
    "tx = Transaction()\n",
    "tx_instruction = TransactionInstruction(\n",
    "    keys=[AccountMeta(pubkey=escrow_address, is_signer=False, is_writable=True),\n",
    "          AccountMeta(pubkey=X_mint_account_address.pubkey, is_signer=False, is_writable=False),\n",
    "          AccountMeta(pubkey=Y_mint_account_address.pubkey, is_signer=False, is_writable=False),\n",
    "          AccountMeta(pubkey=vaultx, is_signer=False, is_writable=True),\n",
    "          AccountMeta(pubkey=vaulty, is_signer=False, is_writable=True),\n",
    "          AccountMeta(pubkey=payer_public_key, is_signer=True, is_writable=False),\n",
    "          AccountMeta(pubkey=alice_pubkey, is_signer=False, is_writable=False),\n",
    "          AccountMeta(pubkey=bob_pubkey, is_signer=False, is_writable=False),\n",
    "          AccountMeta(pubkey=TOKEN_PROGRAM_ID, is_signer=False, is_writable=False),\n",
    "          AccountMeta(pubkey=SYSVAR_RENT_PUBKEY, is_signer=False, is_writable=False),\n",
    "          AccountMeta(pubkey=SYS_PROGRAM_ID, is_signer=False, is_writable=False),\n",
    "#           AccountMeta(pubkey=program_id, is_signer=False, is_writable=False),\n",
    "         ],\n",
    "    program_id=program_id,\n",
    "    data=  data, #struct.pack(\"<LHB\",1,1,1) # b58encode(bytes([9] * 7))#b'0001000100010001000100010001',\n",
    ")\n",
    "\n",
    "tx = tx.add(tx_instruction)\n",
    "\n",
    "\n",
    "transaction_results = http_client.send_transaction(tx, *[payer_loaded_account])#, *[payer_loaded_account])"
   ]
  },
  {
   "cell_type": "code",
   "execution_count": 115,
   "metadata": {},
   "outputs": [
    {
     "data": {
      "text/plain": [
       "H2zxnC3nyp9VaCn67BJDAqSnopMUBHALqeTXvz5NbEoz"
      ]
     },
     "execution_count": 115,
     "metadata": {},
     "output_type": "execute_result"
    }
   ],
   "source": [
    "escrow_address"
   ]
  },
  {
   "cell_type": "code",
   "execution_count": 117,
   "metadata": {},
   "outputs": [
    {
     "data": {
      "text/plain": [
       "(13, 15, 1)"
      ]
     },
     "execution_count": 117,
     "metadata": {},
     "output_type": "execute_result"
    }
   ],
   "source": [
    "a = http_client.get_account_info(escrow_address)['result']['value']['data'][0]\n",
    "import base64\n",
    "unpack('<QQB', base64.b64decode(a)[:17])"
   ]
  },
  {
   "cell_type": "code",
   "execution_count": 118,
   "metadata": {},
   "outputs": [
    {
     "data": {
      "text/plain": [
       "H2zxnC3nyp9VaCn67BJDAqSnopMUBHALqeTXvz5NbEoz"
      ]
     },
     "execution_count": 118,
     "metadata": {},
     "output_type": "execute_result"
    }
   ],
   "source": [
    "escrow_address"
   ]
  },
  {
   "cell_type": "code",
   "execution_count": 119,
   "metadata": {},
   "outputs": [],
   "source": [
    "# deposite\n",
    "from struct import *\n",
    "data = pack('<B', 1)\n",
    "\n",
    "import struct\n",
    "tx = Transaction()\n",
    "tx_instruction = TransactionInstruction(\n",
    "    keys=[AccountMeta(pubkey=escrow_address, is_signer=False, is_writable=True),\n",
    "          AccountMeta(pubkey=X_mint_account_address.pubkey, is_signer=False, is_writable=False),\n",
    "          AccountMeta(pubkey=Y_mint_account_address.pubkey, is_signer=False, is_writable=False),\n",
    "          AccountMeta(pubkey=alice_X_token_account, is_signer=False, is_writable=True), # x_a info\n",
    "          AccountMeta(pubkey=vaultx, is_signer=False, is_writable=True),\n",
    "          AccountMeta(pubkey=alice_pubkey, is_signer=True, is_writable=False),\n",
    "          AccountMeta(pubkey=bob_pubkey, is_signer=False, is_writable=False),\n",
    "          AccountMeta(pubkey=TOKEN_PROGRAM_ID, is_signer=False, is_writable=False),\n",
    "         ],\n",
    "    program_id=program_id,\n",
    "    data=  data,\n",
    ")\n",
    "\n",
    "tx = tx.add(tx_instruction)\n",
    "\n",
    "\n",
    "transaction_results = http_client.send_transaction(tx, *[alice_keypair])#, *[payer_loaded_account])"
   ]
  },
  {
   "cell_type": "code",
   "execution_count": 120,
   "metadata": {},
   "outputs": [
    {
     "data": {
      "text/plain": [
       "FkbNsTyypkDa4KBhRcnMiwbuxTszkKyLVaJbSChsgGee"
      ]
     },
     "execution_count": 120,
     "metadata": {},
     "output_type": "execute_result"
    }
   ],
   "source": [
    "alice_Y_token_account"
   ]
  },
  {
   "cell_type": "code",
   "execution_count": 121,
   "metadata": {},
   "outputs": [
    {
     "data": {
      "text/plain": [
       "BFmw2pWS4ZvScz6mnZsdNw85JUzsgXq9S1ACLe4GyJsx"
      ]
     },
     "execution_count": 121,
     "metadata": {},
     "output_type": "execute_result"
    }
   ],
   "source": [
    "bob_X_token_account"
   ]
  },
  {
   "cell_type": "code",
   "execution_count": 122,
   "metadata": {},
   "outputs": [
    {
     "data": {
      "text/plain": [
       "2pCbe1Mb6WmRYoMVzsUaYpoqdzQrerxHH618mSK2esjd"
      ]
     },
     "execution_count": 122,
     "metadata": {},
     "output_type": "execute_result"
    }
   ],
   "source": [
    "alice_X_token_account"
   ]
  },
  {
   "cell_type": "code",
   "execution_count": 123,
   "metadata": {},
   "outputs": [
    {
     "data": {
      "text/plain": [
       "2pCbe1Mb6WmRYoMVzsUaYpoqdzQrerxHH618mSK2esjd"
      ]
     },
     "execution_count": 123,
     "metadata": {},
     "output_type": "execute_result"
    }
   ],
   "source": [
    "alice_X_token_account"
   ]
  },
  {
   "cell_type": "code",
   "execution_count": null,
   "metadata": {},
   "outputs": [],
   "source": []
  },
  {
   "cell_type": "code",
   "execution_count": 135,
   "metadata": {},
   "outputs": [],
   "source": [
    "# withdraw\n",
    "from struct import *\n",
    "data = pack('<B', 2)\n",
    "\n",
    "import struct\n",
    "tx = Transaction()\n",
    "tx_instruction = TransactionInstruction(\n",
    "    keys=[AccountMeta(pubkey=escrow_address, is_signer=False, is_writable=True),\n",
    "          AccountMeta(pubkey=X_mint_account_address.pubkey, is_signer=False, is_writable=False),\n",
    "          AccountMeta(pubkey=Y_mint_account_address.pubkey, is_signer=False, is_writable=False),\n",
    "          AccountMeta(pubkey=alice_Y_token_account, is_signer=False, is_writable=True), # x_a info\n",
    "          AccountMeta(pubkey=bob_X_token_account, is_signer=False, is_writable=True), # x_a info\n",
    "          AccountMeta(pubkey=bob_Y_token_account, is_signer=False, is_writable=True), # x_a info\n",
    "          AccountMeta(pubkey=vaultx, is_signer=False, is_writable=True),\n",
    "          AccountMeta(pubkey=vaulty, is_signer=False, is_writable=True),\n",
    "          AccountMeta(pubkey=alice_pubkey, is_signer=False, is_writable=False),\n",
    "          AccountMeta(pubkey=bob_pubkey, is_signer=True, is_writable=False),\n",
    "          AccountMeta(pubkey=TOKEN_PROGRAM_ID, is_signer=False, is_writable=False),\n",
    "         ],\n",
    "    program_id=program_id,\n",
    "    data=  data,\n",
    ")\n",
    "\n",
    "tx = tx.add(tx_instruction)\n",
    "\n",
    "\n",
    "transaction_results = http_client.send_transaction(tx, *[bob_keypair])#, *[payer_loaded_account])"
   ]
  },
  {
   "cell_type": "code",
   "execution_count": null,
   "metadata": {},
   "outputs": [],
   "source": []
  }
 ],
 "metadata": {
  "kernelspec": {
   "display_name": "Python 3",
   "language": "python",
   "name": "python3"
  },
  "language_info": {
   "codemirror_mode": {
    "name": "ipython",
    "version": 3
   },
   "file_extension": ".py",
   "mimetype": "text/x-python",
   "name": "python",
   "nbconvert_exporter": "python",
   "pygments_lexer": "ipython3",
   "version": "3.7.4"
  }
 },
 "nbformat": 4,
 "nbformat_minor": 4
}
