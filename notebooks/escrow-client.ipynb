{
 "cells": [
  {
   "cell_type": "code",
   "execution_count": 29,
   "metadata": {},
   "outputs": [],
   "source": [
    "# accounts\n",
    "import json\n",
    "import solana\n",
    "import time\n",
    "import sys\n",
    "import glob\n",
    "from solana.rpc.api import Client\n",
    "from solana.blockhash import Blockhash\n",
    "from solana.publickey import PublicKey\n",
    "from solana.system_program import CreateAccountWithSeedParams, create_account_with_seed, CreateAccountParams, create_account\n",
    "from solana.transaction import Transaction, AccountMeta, TransactionInstruction\n",
    "from solana.system_program import SYS_PROGRAM_ID\n",
    "from spl.token.client import Token\n",
    "from solana import keypair\n",
    "from solana.publickey import PublicKey\n",
    "from solana.sysvar import SYSVAR_RENT_PUBKEY"
   ]
  },
  {
   "cell_type": "code",
   "execution_count": 30,
   "metadata": {},
   "outputs": [
    {
     "name": "stdout",
     "output_type": "stream",
     "text": [
      "Payer Account: 763cSApzBT5scjhSd6BdnkKkMYBhiQmPn2gctswkdkJM\n",
      "alice Account: 7pkWpUjuxwQ73KRoz2aqF3vwTGaFMhN8jwwVkTT7GcX1\n",
      "bob Account: EJEumLvrmuGeCtfe9vMBPKG9oQVBMsA3J4ZELGh6zXe9\n"
     ]
    }
   ],
   "source": [
    "TOKEN_PROGRAM_ID: PublicKey = PublicKey(\"TokenkegQfeZyiNwAJbNbGKPFXCWuBvf9Ss623VQ5DA\")\n",
    "\n",
    "first_key_in_key_folder = glob.glob(\"../keys/*\")[0]\n",
    "payer_loaded_account = solana.keypair.Keypair(json.load(open(first_key_in_key_folder))[:32])\n",
    "\n",
    "\n",
    "http_client = Client(\"https://api.devnet.solana.com\")\n",
    "payer_public_key = payer_loaded_account.public_key\n",
    "\n",
    "\n",
    "\n",
    "# todo: change program_id to system program, change data size =0, change lampord for both alice and bob\n",
    "tx = Transaction()\n",
    "alice_keypair = solana.keypair.Keypair.generate()\n",
    "alice_pubkey = alice_keypair.public_key\n",
    "\n",
    "\n",
    "\n",
    "tx = Transaction()\n",
    "bob_keypair = solana.keypair.Keypair.generate()\n",
    "bob_pubkey = bob_keypair.public_key\n",
    "\n",
    "\n",
    "print(f\"Payer Account: {payer_public_key}\")\n",
    "print(f\"alice Account: {alice_pubkey}\")\n",
    "print(f\"bob Account: {bob_pubkey}\")"
   ]
  },
  {
   "cell_type": "code",
   "execution_count": 31,
   "metadata": {},
   "outputs": [],
   "source": [
    "X_mint_account_address = Token.create_mint(conn= http_client, payer = payer_loaded_account, mint_authority = payer_loaded_account.public_key, decimals = 0, program_id = TOKEN_PROGRAM_ID, )\n",
    "Y_mint_account_address = Token.create_mint(conn= http_client, payer = payer_loaded_account, mint_authority = payer_loaded_account.public_key, decimals = 0, program_id = TOKEN_PROGRAM_ID, )\n",
    "alice_X_token_account = X_mint_account_address.create_associated_token_account(alice_pubkey)\n",
    "alice_Y_token_account = Y_mint_account_address.create_associated_token_account(alice_pubkey)\n",
    "bob_X_token_account = X_mint_account_address.create_associated_token_account(bob_pubkey)\n",
    "bob_Y_token_account = Y_mint_account_address.create_associated_token_account(bob_pubkey)"
   ]
  },
  {
   "cell_type": "code",
   "execution_count": 37,
   "metadata": {},
   "outputs": [
    {
     "data": {
      "text/plain": [
       "{'jsonrpc': '2.0',\n",
       " 'result': 'nwTJE9WynKqjnhsapQrWk4LsR17FZ7XssET8hE2yzKAHcfKgMtngnGhcfq6H929FGZWpHhMmKu7d1rEd9NvYrkV',\n",
       " 'id': 41}"
      ]
     },
     "execution_count": 37,
     "metadata": {},
     "output_type": "execute_result"
    }
   ],
   "source": [
    "import time\n",
    "http_client.request_airdrop(payer_loaded_account.public_key, 1000000000)\n",
    "# time.sleep(20)\n",
    "# http_client.request_airdrop(alice_pubkey, 1000000000)\n",
    "# time.sleep(20)\n",
    "# http_client.request_airdrop(bob_pubkey, 1000000000)\n",
    "# print(http_client.get_balance(alice_pubkey))\n",
    "# print(http_client.get_minimum_balance_for_rent_exemption(7)[\"result\"])"
   ]
  },
  {
   "cell_type": "code",
   "execution_count": 38,
   "metadata": {},
   "outputs": [
    {
     "name": "stdout",
     "output_type": "stream",
     "text": [
      "Program ID: G9x3V3ocLx8KKkWe3iEdwQRcWZKcqSu3A6z33vvGJqVU\n"
     ]
    }
   ],
   "source": [
    "# escrow meta-data account\n",
    "deployed_program_key = glob.glob(\"../target/deploy/*.json\")[0]\n",
    "deployed_program_key_account = solana.keypair.Keypair(json.load(open(deployed_program_key))[:32])\n",
    "program_id = deployed_program_key_account.public_key\n",
    "\n",
    "\n",
    "tx = Transaction()\n",
    "escrow_keypair = solana.keypair.Keypair.generate()\n",
    "escrow_pubkey = escrow_keypair.public_key\n",
    "data_size = 100\n",
    "lamports = http_client.get_minimum_balance_for_rent_exemption(data_size)[\"result\"]\n",
    "transaction_instruction = create_account(\n",
    "        params=CreateAccountParams(\n",
    "            from_pubkey=payer_public_key, new_account_pubkey=escrow_pubkey,\n",
    "            lamports=lamports, space=data_size, program_id=program_id\n",
    "        )\n",
    "    )\n",
    "\n",
    "tx = tx.add(transaction_instruction)\n",
    "transaction_results = http_client.send_transaction(tx, *[payer_loaded_account,escrow_keypair])\n",
    "print(f\"Program ID: {program_id}\")"
   ]
  },
  {
   "cell_type": "code",
   "execution_count": 39,
   "metadata": {},
   "outputs": [],
   "source": [
    "# todo, creat seed more specific\n",
    "x_seeds = [\n",
    "    b\"vault_x\",\n",
    "    bytes(alice_pubkey),\n",
    "    bytes(bob_pubkey),\n",
    "    bytes(X_mint_account_address.pubkey),\n",
    "    bytes(Y_mint_account_address.pubkey),\n",
    "]\n",
    "\n",
    "y_seeds = [\n",
    "    b\"vault_y\",\n",
    "    bytes(alice_pubkey),\n",
    "    bytes(bob_pubkey),\n",
    "    bytes(X_mint_account_address.pubkey),\n",
    "    bytes(Y_mint_account_address.pubkey),\n",
    "]\n",
    "\n",
    "escrow_seeds = [\n",
    "    b\"escrow\",\n",
    "    bytes(alice_pubkey),\n",
    "    bytes(bob_pubkey),\n",
    "    bytes(X_mint_account_address.pubkey),\n",
    "    bytes(Y_mint_account_address.pubkey),\n",
    "]\n",
    "\n",
    "\n",
    "vaultx, xseed = PublicKey.find_program_address(seeds=x_seeds,program_id=program_id)\n",
    "vaulty, yseed = PublicKey.find_program_address(seeds=y_seeds,program_id=program_id)\n",
    "escrow_address, escrow_seed = PublicKey.find_program_address(seeds=escrow_seeds,program_id=program_id)"
   ]
  },
  {
   "cell_type": "code",
   "execution_count": 40,
   "metadata": {},
   "outputs": [
    {
     "name": "stdout",
     "output_type": "stream",
     "text": [
      "G3Q6MrTHdUUjV3ceCQn3CzhkNBzVxKwNyHav5RK5Ramk\n",
      "F1TVGusQ86yYSXTW1W4ZVcXi2e6aAQYJyyUUxEBgdSDb\n",
      "26rpVUBZECXLfGPRuz9cfbKWG6rBLFXh5imcrXC8QzgA\n"
     ]
    }
   ],
   "source": [
    "print(vaultx)\n",
    "print(vaulty)\n",
    "print(escrow_address)"
   ]
  },
  {
   "cell_type": "code",
   "execution_count": 48,
   "metadata": {},
   "outputs": [
    {
     "name": "stderr",
     "output_type": "stream",
     "text": [
      "{'code': -32002, 'message': 'Transaction simulation failed: Error processing Instruction 0: custom program error: 0x0', 'data': {'accounts': None, 'err': {'InstructionError': [0, {'Custom': 0}]}, 'logs': ['Program G9x3V3ocLx8KKkWe3iEdwQRcWZKcqSu3A6z33vvGJqVU invoke [1]', 'Program log: Instruction: InitEscrow', 'Program log: Step 0', 'Program log: Step 1', 'Program log: Step 2', 'Program log: Step 3', 'Program log: Step 7', 'Program log: Step 9', 'Program log: Step 10', 'Program 11111111111111111111111111111111 invoke [2]', 'Create Account: account Address { address: G3Q6MrTHdUUjV3ceCQn3CzhkNBzVxKwNyHav5RK5Ramk, base: None } already in use', 'Program 11111111111111111111111111111111 failed: custom program error: 0x0', 'Program G9x3V3ocLx8KKkWe3iEdwQRcWZKcqSu3A6z33vvGJqVU consumed 200000 of 200000 compute units', 'Program G9x3V3ocLx8KKkWe3iEdwQRcWZKcqSu3A6z33vvGJqVU failed: custom program error: 0x0']}}\n"
     ]
    },
    {
     "ename": "Exception",
     "evalue": "Failed to send transaction",
     "output_type": "error",
     "traceback": [
      "\u001b[0;31m---------------------------------------------------------------------------\u001b[0m",
      "\u001b[0;31mException\u001b[0m                                 Traceback (most recent call last)",
      "\u001b[0;32m<ipython-input-48-0486b0efa67c>\u001b[0m in \u001b[0;36m<module>\u001b[0;34m\u001b[0m\n\u001b[1;32m     25\u001b[0m \u001b[0;34m\u001b[0m\u001b[0m\n\u001b[1;32m     26\u001b[0m \u001b[0;34m\u001b[0m\u001b[0m\n\u001b[0;32m---> 27\u001b[0;31m \u001b[0mtransaction_results\u001b[0m \u001b[0;34m=\u001b[0m \u001b[0mhttp_client\u001b[0m\u001b[0;34m.\u001b[0m\u001b[0msend_transaction\u001b[0m\u001b[0;34m(\u001b[0m\u001b[0mtx\u001b[0m\u001b[0;34m,\u001b[0m \u001b[0;34m*\u001b[0m\u001b[0;34m[\u001b[0m\u001b[0mpayer_loaded_account\u001b[0m\u001b[0;34m]\u001b[0m\u001b[0;34m)\u001b[0m\u001b[0;31m#, *[payer_loaded_account])\u001b[0m\u001b[0;34m\u001b[0m\u001b[0;34m\u001b[0m\u001b[0m\n\u001b[0m",
      "\u001b[0;32m/opt/anaconda3/lib/python3.7/site-packages/solana/rpc/api.py\u001b[0m in \u001b[0;36msend_transaction\u001b[0;34m(self, txn, opts, recent_blockhash, *signers)\u001b[0m\n\u001b[1;32m   1058\u001b[0m \u001b[0;34m\u001b[0m\u001b[0m\n\u001b[1;32m   1059\u001b[0m         \u001b[0mtxn\u001b[0m\u001b[0;34m.\u001b[0m\u001b[0msign\u001b[0m\u001b[0;34m(\u001b[0m\u001b[0;34m*\u001b[0m\u001b[0msigners\u001b[0m\u001b[0;34m)\u001b[0m\u001b[0;34m\u001b[0m\u001b[0;34m\u001b[0m\u001b[0m\n\u001b[0;32m-> 1060\u001b[0;31m         \u001b[0mtxn_resp\u001b[0m \u001b[0;34m=\u001b[0m \u001b[0mself\u001b[0m\u001b[0;34m.\u001b[0m\u001b[0msend_raw_transaction\u001b[0m\u001b[0;34m(\u001b[0m\u001b[0mtxn\u001b[0m\u001b[0;34m.\u001b[0m\u001b[0mserialize\u001b[0m\u001b[0;34m(\u001b[0m\u001b[0;34m)\u001b[0m\u001b[0;34m,\u001b[0m \u001b[0mopts\u001b[0m\u001b[0;34m=\u001b[0m\u001b[0mopts\u001b[0m\u001b[0;34m)\u001b[0m\u001b[0;34m\u001b[0m\u001b[0;34m\u001b[0m\u001b[0m\n\u001b[0m\u001b[1;32m   1061\u001b[0m         \u001b[0;32mif\u001b[0m \u001b[0mself\u001b[0m\u001b[0;34m.\u001b[0m\u001b[0mblockhash_cache\u001b[0m\u001b[0;34m:\u001b[0m\u001b[0;34m\u001b[0m\u001b[0;34m\u001b[0m\u001b[0m\n\u001b[1;32m   1062\u001b[0m             \u001b[0mblockhash_resp\u001b[0m \u001b[0;34m=\u001b[0m \u001b[0mself\u001b[0m\u001b[0;34m.\u001b[0m\u001b[0mget_recent_blockhash\u001b[0m\u001b[0;34m(\u001b[0m\u001b[0;34m)\u001b[0m\u001b[0;34m\u001b[0m\u001b[0;34m\u001b[0m\u001b[0m\n",
      "\u001b[0;32m/opt/anaconda3/lib/python3.7/site-packages/solana/rpc/api.py\u001b[0m in \u001b[0;36msend_raw_transaction\u001b[0;34m(self, txn, opts)\u001b[0m\n\u001b[1;32m   1014\u001b[0m         \u001b[0mresp\u001b[0m \u001b[0;34m=\u001b[0m \u001b[0mself\u001b[0m\u001b[0;34m.\u001b[0m\u001b[0m_provider\u001b[0m\u001b[0;34m.\u001b[0m\u001b[0mmake_request\u001b[0m\u001b[0;34m(\u001b[0m\u001b[0;34m*\u001b[0m\u001b[0margs\u001b[0m\u001b[0;34m)\u001b[0m\u001b[0;34m\u001b[0m\u001b[0;34m\u001b[0m\u001b[0m\n\u001b[1;32m   1015\u001b[0m         \u001b[0;32mif\u001b[0m \u001b[0mopts\u001b[0m\u001b[0;34m.\u001b[0m\u001b[0mskip_confirmation\u001b[0m\u001b[0;34m:\u001b[0m\u001b[0;34m\u001b[0m\u001b[0;34m\u001b[0m\u001b[0m\n\u001b[0;32m-> 1016\u001b[0;31m             \u001b[0;32mreturn\u001b[0m \u001b[0mself\u001b[0m\u001b[0;34m.\u001b[0m\u001b[0m_post_send\u001b[0m\u001b[0;34m(\u001b[0m\u001b[0mresp\u001b[0m\u001b[0;34m,\u001b[0m \u001b[0mself\u001b[0m\u001b[0;34m.\u001b[0m\u001b[0m_provider\u001b[0m\u001b[0;34m)\u001b[0m\u001b[0;34m\u001b[0m\u001b[0;34m\u001b[0m\u001b[0m\n\u001b[0m\u001b[1;32m   1017\u001b[0m         \u001b[0mpost_send_args\u001b[0m \u001b[0;34m=\u001b[0m \u001b[0mself\u001b[0m\u001b[0;34m.\u001b[0m\u001b[0m_send_raw_transaction_post_send_args\u001b[0m\u001b[0;34m(\u001b[0m\u001b[0mresp\u001b[0m\u001b[0;34m,\u001b[0m \u001b[0mopts\u001b[0m\u001b[0;34m)\u001b[0m\u001b[0;34m\u001b[0m\u001b[0;34m\u001b[0m\u001b[0m\n\u001b[1;32m   1018\u001b[0m         \u001b[0;32mreturn\u001b[0m \u001b[0mself\u001b[0m\u001b[0;34m.\u001b[0m\u001b[0m__post_send_with_confirm\u001b[0m\u001b[0;34m(\u001b[0m\u001b[0;34m*\u001b[0m\u001b[0mpost_send_args\u001b[0m\u001b[0;34m)\u001b[0m\u001b[0;34m\u001b[0m\u001b[0;34m\u001b[0m\u001b[0m\n",
      "\u001b[0;32m/opt/anaconda3/lib/python3.7/site-packages/solana/rpc/core.py\u001b[0m in \u001b[0;36m_post_send\u001b[0;34m(resp, provider)\u001b[0m\n\u001b[1;32m    362\u001b[0m             \u001b[0mprovider\u001b[0m\u001b[0;34m.\u001b[0m\u001b[0mlogger\u001b[0m\u001b[0;34m.\u001b[0m\u001b[0merror\u001b[0m\u001b[0;34m(\u001b[0m\u001b[0mresp\u001b[0m\u001b[0;34m.\u001b[0m\u001b[0mget\u001b[0m\u001b[0;34m(\u001b[0m\u001b[0;34m\"error\"\u001b[0m\u001b[0;34m)\u001b[0m\u001b[0;34m)\u001b[0m\u001b[0;34m\u001b[0m\u001b[0;34m\u001b[0m\u001b[0m\n\u001b[1;32m    363\u001b[0m         \u001b[0;32mif\u001b[0m \u001b[0;32mnot\u001b[0m \u001b[0mresp\u001b[0m\u001b[0;34m.\u001b[0m\u001b[0mget\u001b[0m\u001b[0;34m(\u001b[0m\u001b[0;34m\"result\"\u001b[0m\u001b[0;34m)\u001b[0m\u001b[0;34m:\u001b[0m\u001b[0;34m\u001b[0m\u001b[0;34m\u001b[0m\u001b[0m\n\u001b[0;32m--> 364\u001b[0;31m             \u001b[0;32mraise\u001b[0m \u001b[0mException\u001b[0m\u001b[0;34m(\u001b[0m\u001b[0;34m\"Failed to send transaction\"\u001b[0m\u001b[0;34m)\u001b[0m\u001b[0;34m\u001b[0m\u001b[0;34m\u001b[0m\u001b[0m\n\u001b[0m\u001b[1;32m    365\u001b[0m         \u001b[0;32mreturn\u001b[0m \u001b[0mresp\u001b[0m\u001b[0;34m\u001b[0m\u001b[0;34m\u001b[0m\u001b[0m\n\u001b[1;32m    366\u001b[0m \u001b[0;34m\u001b[0m\u001b[0m\n",
      "\u001b[0;31mException\u001b[0m: Failed to send transaction"
     ]
    }
   ],
   "source": [
    "from struct import *\n",
    "data = pack('<BQQ', 0,12,15)\n",
    "\n",
    "import struct\n",
    "tx = Transaction()\n",
    "tx_instruction = TransactionInstruction(\n",
    "    keys=[AccountMeta(pubkey=escrow_address, is_signer=False, is_writable=True),\n",
    "          AccountMeta(pubkey=X_mint_account_address.pubkey, is_signer=False, is_writable=False),\n",
    "          AccountMeta(pubkey=Y_mint_account_address.pubkey, is_signer=False, is_writable=False),\n",
    "          AccountMeta(pubkey=vaultx, is_signer=False, is_writable=True),\n",
    "          AccountMeta(pubkey=vaulty, is_signer=False, is_writable=True),\n",
    "          AccountMeta(pubkey=payer_public_key, is_signer=True, is_writable=False),\n",
    "          AccountMeta(pubkey=alice_pubkey, is_signer=False, is_writable=False),\n",
    "          AccountMeta(pubkey=bob_pubkey, is_signer=False, is_writable=False),\n",
    "          AccountMeta(pubkey=TOKEN_PROGRAM_ID, is_signer=False, is_writable=False),\n",
    "          AccountMeta(pubkey=SYSVAR_RENT_PUBKEY, is_signer=False, is_writable=False),\n",
    "          AccountMeta(pubkey=SYS_PROGRAM_ID, is_signer=False, is_writable=False),\n",
    "#           AccountMeta(pubkey=program_id, is_signer=False, is_writable=False),\n",
    "         ],\n",
    "    program_id=program_id,\n",
    "    data=  data, #struct.pack(\"<LHB\",1,1,1) # b58encode(bytes([9] * 7))#b'0001000100010001000100010001',\n",
    ")\n",
    "\n",
    "tx = tx.add(tx_instruction)\n",
    "\n",
    "\n",
    "transaction_results = http_client.send_transaction(tx, *[payer_loaded_account])#, *[payer_loaded_account])"
   ]
  },
  {
   "cell_type": "code",
   "execution_count": 44,
   "metadata": {},
   "outputs": [
    {
     "data": {
      "text/plain": [
       "26rpVUBZECXLfGPRuz9cfbKWG6rBLFXh5imcrXC8QzgA"
      ]
     },
     "execution_count": 44,
     "metadata": {},
     "output_type": "execute_result"
    }
   ],
   "source": [
    "escrow_address"
   ]
  },
  {
   "cell_type": "code",
   "execution_count": 61,
   "metadata": {},
   "outputs": [],
   "source": [
    "a = http_client.get_account_info(escrow_address)['result']['value']['data'][0]"
   ]
  },
  {
   "cell_type": "code",
   "execution_count": 70,
   "metadata": {},
   "outputs": [
    {
     "data": {
      "text/plain": [
       "(12, 15, 1)"
      ]
     },
     "execution_count": 70,
     "metadata": {},
     "output_type": "execute_result"
    }
   ],
   "source": [
    "import base64\n",
    "unpack('<QQB', base64.b64decode(a)[:17])"
   ]
  },
  {
   "cell_type": "code",
   "execution_count": 68,
   "metadata": {},
   "outputs": [
    {
     "data": {
      "text/plain": [
       "b'\\x0c\\x00\\x00\\x00\\x00\\x00\\x00\\x00\\x0f\\x00\\x00\\x00\\x00\\x00\\x00\\x00\\x01\\x00\\x00\\x00\\x00\\x00\\x00\\x00\\x00\\x00\\x00\\x00\\x00\\x00\\x00\\x00\\x00\\x00\\x00\\x00\\x00\\x00\\x00\\x00\\x00\\x00\\x00\\x00\\x00\\x00\\x00\\x00\\x00\\x00\\x00\\x00\\x00\\x00\\x00\\x00\\x00\\x00\\x00\\x00\\x00\\x00\\x00\\x00\\x00\\x00\\x00\\x00\\x00\\x00\\x00\\x00\\x00\\x00\\x00\\x00\\x00\\x00\\x00\\x00\\x00\\x00\\x00\\x00\\x00\\x00\\x00\\x00\\x00\\x00\\x00\\x00\\x00\\x00\\x00\\x00\\x00\\x00\\x00\\x00\\x00\\x00\\x00\\x00\\x00\\x00\\x00\\x00\\x00\\x00\\x00\\x00\\x00\\x00\\x00\\x00\\x00\\x00\\x00\\x00\\x00\\x00\\x00\\x00\\x00\\x00\\x00\\x00\\x00\\x00\\x00\\x00\\x00\\x00\\x00\\x00\\x00\\x00\\x00\\x00\\x00\\x00\\x00\\x00\\x00\\x00\\x00\\x00\\x00\\x00\\x00\\x00\\x00\\x00\\x00\\x00\\x00\\x00\\x00\\x00\\x00\\x00\\x00\\x00\\x00'"
      ]
     },
     "execution_count": 68,
     "metadata": {},
     "output_type": "execute_result"
    }
   ],
   "source": [
    "base64.b64decode(a)"
   ]
  },
  {
   "cell_type": "code",
   "execution_count": 67,
   "metadata": {},
   "outputs": [
    {
     "data": {
      "text/plain": [
       "'DAAAAAAAAAAPAAAAAAAAAAEAAAAAAAAAAAAAAAAAAAAAAAAAAAAAAAAAAAAAAAAAAAAAAAAAAAAAAAAAAAAAAAAAAAAAAAAAAAAAAAAAAAAAAAAAAAAAAAAAAAAAAAAAAAAAAAAAAAAAAAAAAAAAAAAAAAAAAAAAAAAAAAAAAAAAAAAAAAAAAAAAAAAAAAAAAAAAAAAAAAAAAAAAAAAAAAAAAAAA'"
      ]
     },
     "execution_count": 67,
     "metadata": {},
     "output_type": "execute_result"
    }
   ],
   "source": [
    "a"
   ]
  },
  {
   "cell_type": "code",
   "execution_count": null,
   "metadata": {},
   "outputs": [],
   "source": []
  }
 ],
 "metadata": {
  "kernelspec": {
   "display_name": "Python 3",
   "language": "python",
   "name": "python3"
  },
  "language_info": {
   "codemirror_mode": {
    "name": "ipython",
    "version": 3
   },
   "file_extension": ".py",
   "mimetype": "text/x-python",
   "name": "python",
   "nbconvert_exporter": "python",
   "pygments_lexer": "ipython3",
   "version": "3.7.4"
  }
 },
 "nbformat": 4,
 "nbformat_minor": 4
}
